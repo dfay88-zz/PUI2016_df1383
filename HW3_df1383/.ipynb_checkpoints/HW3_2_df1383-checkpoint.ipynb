{
 "cells": [
  {
   "cell_type": "markdown",
   "metadata": {},
   "source": [
    "## Assignment 2: Set up the work for data-driven inference based on CitiBike data\n",
    "###### Author: Daniel Fay\n",
    "   * Write a Jupyter Notebook on compute. This will require you to use the JupyterHub (instructions here ). Write a notebook thats states the question you want to ask, and formulates the Null and Alternative hypothesis (remember the confidence level!)\n",
    "   * Use pandas to read in the CitiBike files, either from the DF, or locally, but you must be able to download them on the spot (so the TA can reproduce your work).\n",
    "   * Display the top few rows of the DF in your notebook. This table must be rendered.\n",
    "   * Display the reducted dataframe. This table must be rendered.\n",
    "   * Plot your data distributions."
   ]
  },
  {
   "cell_type": "code",
   "execution_count": null,
   "metadata": {
    "collapsed": true
   },
   "outputs": [],
   "source": []
  }
 ],
 "metadata": {
  "kernelspec": {
   "display_name": "Python 3",
   "language": "python",
   "name": "python3"
  },
  "language_info": {
   "codemirror_mode": {
    "name": "ipython",
    "version": 3
   },
   "file_extension": ".py",
   "mimetype": "text/x-python",
   "name": "python",
   "nbconvert_exporter": "python",
   "pygments_lexer": "ipython3",
   "version": "3.5.2"
  }
 },
 "nbformat": 4,
 "nbformat_minor": 0
}
