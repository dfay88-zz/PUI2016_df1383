{
 "cells": [
  {
   "cell_type": "markdown",
   "metadata": {},
   "source": [
    "## Assignment 3: Finish z-test lab\n",
    "###### Author: Daniel Fay"
   ]
  },
  {
   "cell_type": "code",
   "execution_count": 1,
   "metadata": {
    "collapsed": false
   },
   "outputs": [
    {
     "name": "stdout",
     "output_type": "stream",
     "text": [
      "  % Total    % Received % Xferd  Average Speed   Time    Time     Time  Current\r\n",
      "                                 Dload  Upload   Total   Spent    Left  Speed\r\n",
      "\r",
      "  0     0    0     0    0     0      0      0 --:--:-- --:--:-- --:--:--     0\r",
      "107  1179  107  1179    0     0   8885      0 --:--:-- --:--:-- --:--:--  575k\r\n"
     ]
    }
   ],
   "source": [
    "# Grab time data from URL\n",
    "!curl -O https://raw.githubusercontent.com/fedhere/PUI2016_fb55/master/Lab3_fb55/times.txt"
   ]
  },
  {
   "cell_type": "code",
   "execution_count": 7,
   "metadata": {
    "collapsed": false
   },
   "outputs": [
    {
     "data": {
      "text/html": [
       "<div>\n",
       "<table border=\"1\" class=\"dataframe\">\n",
       "  <thead>\n",
       "    <tr style=\"text-align: right;\">\n",
       "      <th></th>\n",
       "      <th>times</th>\n",
       "    </tr>\n",
       "  </thead>\n",
       "  <tbody>\n",
       "    <tr>\n",
       "      <th>0</th>\n",
       "      <td>31.622239</td>\n",
       "    </tr>\n",
       "    <tr>\n",
       "      <th>1</th>\n",
       "      <td>32.821376</td>\n",
       "    </tr>\n",
       "    <tr>\n",
       "      <th>2</th>\n",
       "      <td>30.229101</td>\n",
       "    </tr>\n",
       "    <tr>\n",
       "      <th>3</th>\n",
       "      <td>31.413766</td>\n",
       "    </tr>\n",
       "    <tr>\n",
       "      <th>4</th>\n",
       "      <td>39.010550</td>\n",
       "    </tr>\n",
       "  </tbody>\n",
       "</table>\n",
       "</div>"
      ],
      "text/plain": [
       "       times\n",
       "0  31.622239\n",
       "1  32.821376\n",
       "2  30.229101\n",
       "3  31.413766\n",
       "4  39.010550"
      ]
     },
     "execution_count": 7,
     "metadata": {},
     "output_type": "execute_result"
    }
   ],
   "source": [
    "# Import text file into pandas dataframe and print head\n",
    "import pandas as pd\n",
    "df = pd.read_csv('times.txt', sep=\" \", header = None)\n",
    "df.columns = ['times']\n",
    "df.head()"
   ]
  },
  {
   "cell_type": "markdown",
   "metadata": {},
   "source": [
    "\n",
    "##### A new bus route (X8) has been implemented by the MTA. They want to know if it improves commute time?\n",
    "\n",
    "Null Hypothesis (H0): The commute time is the same or longer with the implementation of the new bus route X8.  \n",
    "(H0: U1 >= U2)\n",
    "\n",
    "Alternative Hypthesis (Ha): The commute time is shorter with the implementation of the new bus route X8.  \n",
    "(HA: U1 < U2)\n",
    "\n",
    "Significance Level: alpha = 0.05  \n",
    "Before Implementation: mean = 36, std =6"
   ]
  },
  {
   "cell_type": "code",
   "execution_count": 9,
   "metadata": {
    "collapsed": false
   },
   "outputs": [
    {
     "name": "stdout",
     "output_type": "stream",
     "text": [
      "Z Score =  -2.55639718617\n",
      "P Value:  0.00528811602207\n"
     ]
    }
   ],
   "source": [
    "# Calculate new sample mean and Z score\n",
    "import math\n",
    "import scipy.stats as st\n",
    "old_mean = 36\n",
    "old_std = 6\n",
    "new_mean = df['times'].mean()\n",
    "z_score = (new_mean - old_mean)/(old_std/(math.sqrt(len(df))))\n",
    "p_value = st.norm.sf(abs(z_score))\n",
    "print ('Z Score = ',z_score)\n",
    "print('P Value: ', p_value)"
   ]
  },
  {
   "cell_type": "markdown",
   "metadata": {
    "collapsed": true
   },
   "source": [
    "#### Interpretation:\n",
    "A left sided Z test of the hypothesis resulted in a Z Score of -2.556, which corresponds to a P Value of .005. Therefore since the p value is smaller than the stated significance level of .05 we can reject the null hypothesis and accept the alternative."
   ]
  },
  {
   "cell_type": "code",
   "execution_count": null,
   "metadata": {
    "collapsed": true
   },
   "outputs": [],
   "source": []
  }
 ],
 "metadata": {
  "kernelspec": {
   "display_name": "PUI2016_Python3",
   "language": "python",
   "name": "pui2016_python3"
  },
  "language_info": {
   "codemirror_mode": {
    "name": "ipython",
    "version": 3
   },
   "file_extension": ".py",
   "mimetype": "text/x-python",
   "name": "python",
   "nbconvert_exporter": "python",
   "pygments_lexer": "ipython3",
   "version": "3.5.2"
  }
 },
 "nbformat": 4,
 "nbformat_minor": 0
}
