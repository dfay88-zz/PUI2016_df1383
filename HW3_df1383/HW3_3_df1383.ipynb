{
 "cells": [
  {
   "cell_type": "markdown",
   "metadata": {},
   "source": [
    "## Assignment 3: Finish z-test lab\n",
    "###### Author: Daniel Fay"
   ]
  },
  {
   "cell_type": "code",
   "execution_count": 9,
   "metadata": {
    "collapsed": false
   },
   "outputs": [
    {
     "name": "stdout",
     "output_type": "stream",
     "text": [
      "  % Total    % Received % Xferd  Average Speed   Time    Time     Time  Current\n",
      "                                 Dload  Upload   Total   Spent    Left  Speed\n",
      "100  1179  100  1179    0     0   1732      0 --:--:-- --:--:-- --:--:--  1731\n"
     ]
    }
   ],
   "source": [
    "# Grab time data from URL\n",
    "!curl -O https://raw.githubusercontent.com/fedhere/PUI2016_fb55/master/Lab3_fb55/times.txt"
   ]
  },
  {
   "cell_type": "code",
   "execution_count": 2,
   "metadata": {
    "collapsed": false
   },
   "outputs": [
    {
     "data": {
      "text/html": [
       "<div>\n",
       "<table border=\"1\" class=\"dataframe\">\n",
       "  <thead>\n",
       "    <tr style=\"text-align: right;\">\n",
       "      <th></th>\n",
       "      <th>times</th>\n",
       "    </tr>\n",
       "  </thead>\n",
       "  <tbody>\n",
       "    <tr>\n",
       "      <th>0</th>\n",
       "      <td>31.622239</td>\n",
       "    </tr>\n",
       "    <tr>\n",
       "      <th>1</th>\n",
       "      <td>32.821376</td>\n",
       "    </tr>\n",
       "    <tr>\n",
       "      <th>2</th>\n",
       "      <td>30.229101</td>\n",
       "    </tr>\n",
       "    <tr>\n",
       "      <th>3</th>\n",
       "      <td>31.413766</td>\n",
       "    </tr>\n",
       "    <tr>\n",
       "      <th>4</th>\n",
       "      <td>39.010550</td>\n",
       "    </tr>\n",
       "  </tbody>\n",
       "</table>\n",
       "</div>"
      ],
      "text/plain": [
       "       times\n",
       "0  31.622239\n",
       "1  32.821376\n",
       "2  30.229101\n",
       "3  31.413766\n",
       "4  39.010550"
      ]
     },
     "execution_count": 2,
     "metadata": {},
     "output_type": "execute_result"
    }
   ],
   "source": [
    "# Import text file into pandas dataframe and print head\n",
    "import pandas as pd\n",
    "df = pd.read_csv('times.txt', sep=\" \", header = None)\n",
    "df.columns = ['times']\n",
    "df.head()"
   ]
  },
  {
   "cell_type": "markdown",
   "metadata": {},
   "source": [
    "\n",
    "##### A new bus route (X8) has been implemented by the MTA. They want to know if it improves commute time?\n",
    "\n",
    "Null Hypothesis (H0): The commute time is the same or longer with the implementation of the new bus route X8.  \n",
    "(H0: U1 >= U2)\n",
    "\n",
    "Alternative Hypthesis (Ha): The commute time is shorter with the implementation of the new bus route X8.  \n",
    "(HA: U1 < U2)\n",
    "\n",
    "Significance Level: alpha = 0.05  \n",
    "Before Implementation: mean = 36, std =6"
   ]
  },
  {
   "cell_type": "code",
   "execution_count": 11,
   "metadata": {
    "collapsed": false
   },
   "outputs": [
    {
     "name": "stdout",
     "output_type": "stream",
     "text": [
      "Z Score =  -2.55639718617\n"
     ]
    }
   ],
   "source": [
    "# Calculate new sample mean and Z score\n",
    "from __future__ import division\n",
    "import math\n",
    "old_mean = 36\n",
    "old_std = 6\n",
    "new_mean = df['times'].mean()\n",
    "z_score = (new_mean - old_mean)/(old_std/(math.sqrt(len(df))))\n",
    "print 'Z Score = ',z_score"
   ]
  },
  {
   "cell_type": "markdown",
   "metadata": {
    "collapsed": true
   },
   "source": [
    "This is a left sided test therefore the Z-score which corresponds to an alpha = .05 is -1.645.  \n",
    "Since -2.5564 is less than -1.645 we reject the null hypothesis and accept the alternative hypothesis."
   ]
  }
 ],
 "metadata": {
  "kernelspec": {
   "display_name": "Python 3",
   "language": "python",
   "name": "python3"
  },
  "language_info": {
   "codemirror_mode": {
    "name": "ipython",
    "version": 3
   },
   "file_extension": ".py",
   "mimetype": "text/x-python",
   "name": "python",
   "nbconvert_exporter": "python",
   "pygments_lexer": "ipython3",
   "version": "3.5.2"
  }
 },
 "nbformat": 4,
 "nbformat_minor": 0
}
