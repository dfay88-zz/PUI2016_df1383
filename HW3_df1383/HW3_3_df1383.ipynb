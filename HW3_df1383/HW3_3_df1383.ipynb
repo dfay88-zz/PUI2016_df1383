{
 "cells": [
  {
   "cell_type": "markdown",
   "metadata": {},
   "source": [
    "## Assignment 3: Finish z-test lab\n",
    "###### Author: Daniel Fay"
   ]
  },
  {
   "cell_type": "code",
   "execution_count": 1,
   "metadata": {
    "collapsed": false
   },
   "outputs": [
    {
     "name": "stdout",
     "output_type": "stream",
     "text": [
      "  % Total    % Received % Xferd  Average Speed   Time    Time     Time  Current\r\n",
      "                                 Dload  Upload   Total   Spent    Left  Speed\r\n",
      "\r",
      "  0     0    0     0    0     0      0      0 --:--:-- --:--:-- --:--:--     0\r",
      "107  1179  107  1179    0     0   8885      0 --:--:-- --:--:-- --:--:--  575k\r\n"
     ]
    }
   ],
   "source": [
    "# Grab time data from URL\n",
    "!curl -O https://raw.githubusercontent.com/fedhere/PUI2016_fb55/master/Lab3_fb55/times.txt"
   ]
  },
  {
   "cell_type": "code",
   "execution_count": 1,
   "metadata": {
    "collapsed": false
   },
   "outputs": [
    {
     "data": {
      "text/html": [
       "<div>\n",
       "<table border=\"1\" class=\"dataframe\">\n",
       "  <thead>\n",
       "    <tr style=\"text-align: right;\">\n",
       "      <th></th>\n",
       "      <th>times</th>\n",
       "    </tr>\n",
       "  </thead>\n",
       "  <tbody>\n",
       "    <tr>\n",
       "      <th>0</th>\n",
       "      <td>31.622239</td>\n",
       "    </tr>\n",
       "    <tr>\n",
       "      <th>1</th>\n",
       "      <td>32.821376</td>\n",
       "    </tr>\n",
       "    <tr>\n",
       "      <th>2</th>\n",
       "      <td>30.229101</td>\n",
       "    </tr>\n",
       "    <tr>\n",
       "      <th>3</th>\n",
       "      <td>31.413766</td>\n",
       "    </tr>\n",
       "    <tr>\n",
       "      <th>4</th>\n",
       "      <td>39.010550</td>\n",
       "    </tr>\n",
       "  </tbody>\n",
       "</table>\n",
       "</div>"
      ],
      "text/plain": [
       "       times\n",
       "0  31.622239\n",
       "1  32.821376\n",
       "2  30.229101\n",
       "3  31.413766\n",
       "4  39.010550"
      ]
     },
     "execution_count": 1,
     "metadata": {},
     "output_type": "execute_result"
    }
   ],
   "source": [
    "# Import text file into pandas dataframe and print head\n",
    "import pandas as pd\n",
    "df = pd.read_csv('times.txt', sep=\" \", header = None)\n",
    "df.columns = ['times']\n",
    "df.head()"
   ]
  },
  {
   "cell_type": "markdown",
   "metadata": {},
   "source": [
    "\n",
    "##### A new bus route (X8) has been implemented by the MTA. They want to know if it improves commute time?\n",
    "\n",
    "Null Hypothesis (H0): The commute time is the same or longer with the implementation of the new bus route X8.  \n",
    "(H0: U1 >= U2)\n",
    "\n",
    "Alternative Hypthesis (Ha): The commute time is shorter with the implementation of the new bus route X8.  \n",
    "(HA: U1 < U2)\n",
    "\n",
    "Significance Level: alpha = 0.05  \n",
    "Before Implementation: mean = 36, std =6"
   ]
  },
  {
   "cell_type": "code",
   "execution_count": 2,
   "metadata": {
    "collapsed": false
   },
   "outputs": [
    {
     "name": "stdout",
     "output_type": "stream",
     "text": [
      "Z Score =  -2.5563971861666466\n",
      "P Value:  0.00528811602207\n"
     ]
    }
   ],
   "source": [
    "# Calculate new sample mean and Z score\n",
    "import math\n",
    "import scipy.stats as st\n",
    "old_mean = 36\n",
    "old_std = 6\n",
    "new_mean = df['times'].mean()\n",
    "z_score = (new_mean - old_mean)/(old_std/(math.sqrt(len(df))))\n",
    "p_value = st.norm.sf(abs(z_score))\n",
    "print ('Z Score = ',z_score)\n",
    "print('P Value: ', p_value)"
   ]
  },
  {
   "cell_type": "markdown",
   "metadata": {
    "collapsed": true
   },
   "source": [
    "#### Interpretation:\n",
    "A left sided Z test of the hypothesis resulted in a Z Score of -2.556, which corresponds to a P Value of .005. Therefore since the p value is smaller than the stated significance level of .05 we can reject the null hypothesis and accept the alternative."
   ]
  },
  {
   "cell_type": "code",
   "execution_count": 6,
   "metadata": {
    "collapsed": false
   },
   "outputs": [
    {
     "data": {
      "text/plain": [
       "array([-0.40046761, -0.23161084, -0.59664266, -0.42982385,  0.63991918,\n",
       "        0.05011857,  0.76120804,  0.72009871, -0.48434457, -0.95806479,\n",
       "       -2.19543256,  1.65672107, -0.62675957,  1.84950239, -2.52606981,\n",
       "        1.12371567, -0.11840973,  1.10095887,  1.65303644, -0.5056658 ,\n",
       "       -0.21377982, -1.16725225, -0.45189937,  0.12254923,  0.16539642,\n",
       "        0.82472811,  0.50374176, -0.70522841, -1.48557234,  0.01378208,\n",
       "        1.5435692 ,  0.63224858,  0.65448189,  0.73334125, -0.36255427,\n",
       "       -1.66758595, -1.16553585,  1.27789555, -0.16974194, -0.39289393,\n",
       "        0.37489254,  0.52866593, -0.01098638,  0.23205113,  1.35386622,\n",
       "       -0.68534638,  0.36019916,  1.00536503,  1.39582312,  0.50673055,\n",
       "       -1.6279505 ,  0.81752638, -0.40644479, -1.2090092 , -0.78502481,\n",
       "        1.38994746,  0.32715959,  1.26660873,  0.87156302, -1.16874138,\n",
       "       -1.31342794, -0.20423098, -0.22469338, -1.15195177,  0.70170609,\n",
       "        0.25193599,  0.88051366,  0.8597691 , -2.05512768,  1.23256863,\n",
       "       -0.42035228,  0.37780572,  0.63723716, -1.96234033, -0.93806674,\n",
       "        0.59609503, -0.62576145,  0.58898509, -1.1348966 , -0.33287482,\n",
       "       -0.86613119,  1.23858229,  0.83007472,  0.39940329, -0.42456638,\n",
       "        0.60970655,  0.34631706, -0.29493502, -1.5782298 , -1.13215862,\n",
       "        2.01136473, -0.42822452,  1.73774896, -0.54476843, -1.92544134,\n",
       "       -1.16430398,  1.16330962, -0.10345586,  0.39040024,  0.26384266])"
      ]
     },
     "execution_count": 6,
     "metadata": {},
     "output_type": "execute_result"
    }
   ],
   "source": [
    "st.zscore(df.times)"
   ]
  },
  {
   "cell_type": "code",
   "execution_count": null,
   "metadata": {
    "collapsed": true
   },
   "outputs": [],
   "source": []
  }
 ],
 "metadata": {
  "kernelspec": {
   "display_name": "Python 3",
   "language": "python",
   "name": "python3"
  },
  "language_info": {
   "codemirror_mode": {
    "name": "ipython",
    "version": 3
   },
   "file_extension": ".py",
   "mimetype": "text/x-python",
   "name": "python",
   "nbconvert_exporter": "python",
   "pygments_lexer": "ipython3",
   "version": "3.5.2"
  }
 },
 "nbformat": 4,
 "nbformat_minor": 0
}
