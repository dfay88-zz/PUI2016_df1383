{
 "cells": [
  {
   "cell_type": "markdown",
   "metadata": {},
   "source": [
    "# Working with Data - Computer Lab for Guest Lecture Julia Lane\n",
    "\n",
    "In this computer lab we will learn more more details and practice data work to enhance the content of the lecture presented by Julia Lane on responsible data use. We will address a research question, think about data and measurement errors, and manipulate data. \n",
    "\n",
    "OUTLINE: \n",
    "1. Define a research question \n",
    "2. Think about what data are available \n",
    "3. Think about possible measurement errors \n",
    "4. Think about the interpretation of your results \n",
    "5. Inform your results by linking datasets "
   ]
  },
  {
   "cell_type": "markdown",
   "metadata": {
    "raw_mimetype": "text/markdown"
   },
   "source": [
    "# 1. Define a reserach question\n",
    "Which Community Districts in NYC show the highest number of complaints?\n",
    "\n",
    "# 2. Think about what data are available\n",
    "Find suitable data by searching the CUSP Data Catalog https://datahub.cusp.nyu.edu/catalog. You can use Urban Profiler to investigate the Metadata associated with each dataset. Using this tool will help you to decide which attributes of the data you need to answer your question so you don't have to load the entire dataset. "
   ]
  },
  {
   "cell_type": "code",
   "execution_count": 1191,
   "metadata": {
    "collapsed": false
   },
   "outputs": [],
   "source": [
    "import os\n",
    "import pandas as pd\n",
    "import numpy as np\n",
    "import re\n",
    "PUIdata = os.getenv('PUIDATA')"
   ]
  },
  {
   "cell_type": "code",
   "execution_count": 1192,
   "metadata": {
    "collapsed": false
   },
   "outputs": [
    {
     "data": {
      "text/html": [
       "<div>\n",
       "<table border=\"1\" class=\"dataframe\">\n",
       "  <thead>\n",
       "    <tr style=\"text-align: right;\">\n",
       "      <th></th>\n",
       "      <th>Complaint Type</th>\n",
       "      <th>Community Board</th>\n",
       "      <th>Borough</th>\n",
       "    </tr>\n",
       "  </thead>\n",
       "  <tbody>\n",
       "    <tr>\n",
       "      <th>0</th>\n",
       "      <td>Street Condition</td>\n",
       "      <td>13 BROOKLYN</td>\n",
       "      <td>BROOKLYN</td>\n",
       "    </tr>\n",
       "    <tr>\n",
       "      <th>1</th>\n",
       "      <td>Opinion for the Mayor</td>\n",
       "      <td>0 Unspecified</td>\n",
       "      <td>Unspecified</td>\n",
       "    </tr>\n",
       "    <tr>\n",
       "      <th>2</th>\n",
       "      <td>Root/Sewer/Sidewalk Condition</td>\n",
       "      <td>18 BROOKLYN</td>\n",
       "      <td>BROOKLYN</td>\n",
       "    </tr>\n",
       "    <tr>\n",
       "      <th>3</th>\n",
       "      <td>Illegal Parking</td>\n",
       "      <td>12 BROOKLYN</td>\n",
       "      <td>BROOKLYN</td>\n",
       "    </tr>\n",
       "    <tr>\n",
       "      <th>4</th>\n",
       "      <td>Benefit Card Replacement</td>\n",
       "      <td>0 Unspecified</td>\n",
       "      <td>Unspecified</td>\n",
       "    </tr>\n",
       "  </tbody>\n",
       "</table>\n",
       "</div>"
      ],
      "text/plain": [
       "                  Complaint Type Community Board      Borough\n",
       "0               Street Condition     13 BROOKLYN     BROOKLYN\n",
       "1          Opinion for the Mayor   0 Unspecified  Unspecified\n",
       "2  Root/Sewer/Sidewalk Condition     18 BROOKLYN     BROOKLYN\n",
       "3                Illegal Parking     12 BROOKLYN     BROOKLYN\n",
       "4       Benefit Card Replacement   0 Unspecified  Unspecified"
      ]
     },
     "execution_count": 1192,
     "metadata": {},
     "output_type": "execute_result"
    }
   ],
   "source": [
    "# Load dataset\n",
    "data = pd.read_csv('/projects/open/NYCOpenData/nycopendata/data/erm2-nwe9/1446832678/erm2-nwe9', \n",
    "                   usecols = ['Complaint Type','Community Board', 'Borough'], nrows = 10000)\n",
    "data.head()\n"
   ]
  },
  {
   "cell_type": "code",
   "execution_count": 1193,
   "metadata": {
    "collapsed": false
   },
   "outputs": [
    {
     "data": {
      "text/plain": [
       "array(['13 BROOKLYN', '0 Unspecified', '18 BROOKLYN', '12 BROOKLYN',\n",
       "       '02 STATEN ISLAND', '08 MANHATTAN', '06 BROOKLYN', '10 BRONX',\n",
       "       '06 MANHATTAN', '04 BROOKLYN', '04 QUEENS', '09 MANHATTAN',\n",
       "       '14 BROOKLYN', '05 MANHATTAN', '02 MANHATTAN', '10 QUEENS',\n",
       "       '07 QUEENS', '02 QUEENS', '11 BROOKLYN', '05 QUEENS', '05 BROOKLYN',\n",
       "       '09 QUEENS', '12 MANHATTAN', '01 BROOKLYN', '11 MANHATTAN',\n",
       "       '03 BRONX', '03 STATEN ISLAND', '08 BROOKLYN', '03 BROOKLYN',\n",
       "       '07 MANHATTAN', '10 MANHATTAN', '04 BRONX', '01 MANHATTAN',\n",
       "       '07 BRONX', '09 BRONX', '03 MANHATTAN', '13 QUEENS', '02 BRONX',\n",
       "       '12 QUEENS', '16 BROOKLYN', '08 QUEENS', '04 MANHATTAN',\n",
       "       '14 QUEENS', '10 BROOKLYN', '11 QUEENS', '06 BRONX', '08 BRONX',\n",
       "       '05 BRONX', '15 BROOKLYN', '02 BROOKLYN', '12 BRONX', '03 QUEENS',\n",
       "       '06 QUEENS', '01 STATEN ISLAND', '01 BRONX', '01 QUEENS',\n",
       "       '17 BROOKLYN', '11 BRONX', 'Unspecified QUEENS', '09 BROOKLYN',\n",
       "       'Unspecified MANHATTAN', 'Unspecified BROOKLYN', '07 BROOKLYN',\n",
       "       'Unspecified BRONX', '64 MANHATTAN', '81 QUEENS', '55 BROOKLYN',\n",
       "       '83 QUEENS', 'Unspecified STATEN ISLAND', '28 BRONX', '80 QUEENS',\n",
       "       '26 BRONX', '95 STATEN ISLAND'], dtype=object)"
      ]
     },
     "execution_count": 1193,
     "metadata": {},
     "output_type": "execute_result"
    }
   ],
   "source": [
    "data['Community Board'].unique()"
   ]
  },
  {
   "cell_type": "markdown",
   "metadata": {},
   "source": [
    "# 3. Think about possible measurement errors\n",
    "Do you see any problems regarding possible measurement error? Think about who is represented in the data, ommissions, duplications, content error, missing data, etc. "
   ]
  },
  {
   "cell_type": "code",
   "execution_count": 1194,
   "metadata": {
    "collapsed": false
   },
   "outputs": [],
   "source": [
    "# Check if all Boroughs and Community Districts are represented in the Data "
   ]
  },
  {
   "cell_type": "code",
   "execution_count": 1195,
   "metadata": {
    "collapsed": false
   },
   "outputs": [],
   "source": [
    "# How many unique values do we have? "
   ]
  },
  {
   "cell_type": "code",
   "execution_count": 1196,
   "metadata": {
    "collapsed": false
   },
   "outputs": [
    {
     "data": {
      "text/plain": [
       "73"
      ]
     },
     "execution_count": 1196,
     "metadata": {},
     "output_type": "execute_result"
    }
   ],
   "source": [
    "len(data['Community Board'].unique())"
   ]
  },
  {
   "cell_type": "code",
   "execution_count": 1197,
   "metadata": {
    "collapsed": false
   },
   "outputs": [
    {
     "data": {
      "text/plain": [
       "147"
      ]
     },
     "execution_count": 1197,
     "metadata": {},
     "output_type": "execute_result"
    }
   ],
   "source": [
    "len(data['Complaint Type'].unique())"
   ]
  },
  {
   "cell_type": "code",
   "execution_count": 1198,
   "metadata": {
    "collapsed": false
   },
   "outputs": [],
   "source": [
    "# Why do we have so many? Some of them are unspecified, missing. Some might be invalid entries. \n",
    "# We should have 59 Community Districts."
   ]
  },
  {
   "cell_type": "markdown",
   "metadata": {},
   "source": [
    "Some districts are labeled as unspecified in various formats. We need to drop those rows in order to find the correct number of unique community districts."
   ]
  },
  {
   "cell_type": "code",
   "execution_count": 1199,
   "metadata": {
    "collapsed": true
   },
   "outputs": [],
   "source": [
    "# Check for duplicates? Are these plausible?"
   ]
  },
  {
   "cell_type": "code",
   "execution_count": 1200,
   "metadata": {
    "collapsed": false
   },
   "outputs": [
    {
     "name": "stdout",
     "output_type": "stream",
     "text": [
      "Number of duplicates: 7484\n"
     ]
    }
   ],
   "source": [
    "data_no_dup = data.drop_duplicates()\n",
    "print ('Number of duplicates:', len(data) - len(data_no_dup))"
   ]
  },
  {
   "cell_type": "markdown",
   "metadata": {},
   "source": [
    "Yes, there are only 6 boroughs and 147 complaint types. Thus its only natural that there are a significant amount of duplicate rows in the dataset."
   ]
  },
  {
   "cell_type": "code",
   "execution_count": 1201,
   "metadata": {
    "collapsed": false
   },
   "outputs": [],
   "source": [
    "# What about missing values? Can you detect any patterns? "
   ]
  },
  {
   "cell_type": "code",
   "execution_count": 1202,
   "metadata": {
    "collapsed": false
   },
   "outputs": [
    {
     "data": {
      "text/html": [
       "<div>\n",
       "<table border=\"1\" class=\"dataframe\">\n",
       "  <thead>\n",
       "    <tr style=\"text-align: right;\">\n",
       "      <th></th>\n",
       "      <th>Complaint Type</th>\n",
       "      <th>Community Board</th>\n",
       "      <th>Borough</th>\n",
       "    </tr>\n",
       "  </thead>\n",
       "  <tbody>\n",
       "    <tr>\n",
       "      <th>count</th>\n",
       "      <td>10000</td>\n",
       "      <td>10000</td>\n",
       "      <td>10000</td>\n",
       "    </tr>\n",
       "    <tr>\n",
       "      <th>unique</th>\n",
       "      <td>147</td>\n",
       "      <td>73</td>\n",
       "      <td>6</td>\n",
       "    </tr>\n",
       "    <tr>\n",
       "      <th>top</th>\n",
       "      <td>Street Light Condition</td>\n",
       "      <td>0 Unspecified</td>\n",
       "      <td>BROOKLYN</td>\n",
       "    </tr>\n",
       "    <tr>\n",
       "      <th>freq</th>\n",
       "      <td>594</td>\n",
       "      <td>607</td>\n",
       "      <td>2825</td>\n",
       "    </tr>\n",
       "  </tbody>\n",
       "</table>\n",
       "</div>"
      ],
      "text/plain": [
       "                Complaint Type Community Board   Borough\n",
       "count                    10000           10000     10000\n",
       "unique                     147              73         6\n",
       "top     Street Light Condition   0 Unspecified  BROOKLYN\n",
       "freq                       594             607      2825"
      ]
     },
     "execution_count": 1202,
     "metadata": {},
     "output_type": "execute_result"
    }
   ],
   "source": [
    "data.describe()"
   ]
  },
  {
   "cell_type": "code",
   "execution_count": 1203,
   "metadata": {
    "collapsed": false
   },
   "outputs": [
    {
     "data": {
      "text/plain": [
       "Complaint Type     0\n",
       "Community Board    0\n",
       "Borough            0\n",
       "dtype: int64"
      ]
     },
     "execution_count": 1203,
     "metadata": {},
     "output_type": "execute_result"
    }
   ],
   "source": [
    "data.isnull().sum()"
   ]
  },
  {
   "cell_type": "markdown",
   "metadata": {},
   "source": [
    "No missing data"
   ]
  },
  {
   "cell_type": "code",
   "execution_count": 1204,
   "metadata": {
    "collapsed": true
   },
   "outputs": [],
   "source": [
    "# Data Editing: Is it possible to replace missing values? Is it possible to use Complaint Type \n",
    "# to fill missings in Resolution Descriptor?"
   ]
  },
  {
   "cell_type": "markdown",
   "metadata": {},
   "source": [
    "Yes it is possible to replace missing values using several different functions provided by pandas. It would be possible to fill in missing values for resolution descriptor with the complaint type. Possibly take the most common resolution for that particular complaint type and use that to fill in the resolution descriptor. However we do not need resolution descriptor data for this analysis."
   ]
  },
  {
   "cell_type": "code",
   "execution_count": 1205,
   "metadata": {
    "collapsed": false
   },
   "outputs": [],
   "source": [
    "# Generate marker for unplausible Community Districts\n",
    "# How do these districts look like? "
   ]
  },
  {
   "cell_type": "code",
   "execution_count": 1206,
   "metadata": {
    "collapsed": false
   },
   "outputs": [
    {
     "data": {
      "text/html": [
       "<div>\n",
       "<table border=\"1\" class=\"dataframe\">\n",
       "  <thead>\n",
       "    <tr style=\"text-align: right;\">\n",
       "      <th></th>\n",
       "      <th>Complaint Type</th>\n",
       "      <th>Community Board</th>\n",
       "      <th>Borough</th>\n",
       "      <th>Bad Community Board</th>\n",
       "    </tr>\n",
       "  </thead>\n",
       "  <tbody>\n",
       "    <tr>\n",
       "      <th>0</th>\n",
       "      <td>Street Condition</td>\n",
       "      <td>13 BROOKLYN</td>\n",
       "      <td>BROOKLYN</td>\n",
       "      <td>False</td>\n",
       "    </tr>\n",
       "    <tr>\n",
       "      <th>1</th>\n",
       "      <td>Opinion for the Mayor</td>\n",
       "      <td>0 Unspecified</td>\n",
       "      <td>Unspecified</td>\n",
       "      <td>True</td>\n",
       "    </tr>\n",
       "    <tr>\n",
       "      <th>2</th>\n",
       "      <td>Root/Sewer/Sidewalk Condition</td>\n",
       "      <td>18 BROOKLYN</td>\n",
       "      <td>BROOKLYN</td>\n",
       "      <td>False</td>\n",
       "    </tr>\n",
       "    <tr>\n",
       "      <th>3</th>\n",
       "      <td>Illegal Parking</td>\n",
       "      <td>12 BROOKLYN</td>\n",
       "      <td>BROOKLYN</td>\n",
       "      <td>False</td>\n",
       "    </tr>\n",
       "    <tr>\n",
       "      <th>4</th>\n",
       "      <td>Benefit Card Replacement</td>\n",
       "      <td>0 Unspecified</td>\n",
       "      <td>Unspecified</td>\n",
       "      <td>True</td>\n",
       "    </tr>\n",
       "  </tbody>\n",
       "</table>\n",
       "</div>"
      ],
      "text/plain": [
       "                  Complaint Type Community Board      Borough  \\\n",
       "0               Street Condition     13 BROOKLYN     BROOKLYN   \n",
       "1          Opinion for the Mayor   0 Unspecified  Unspecified   \n",
       "2  Root/Sewer/Sidewalk Condition     18 BROOKLYN     BROOKLYN   \n",
       "3                Illegal Parking     12 BROOKLYN     BROOKLYN   \n",
       "4       Benefit Card Replacement   0 Unspecified  Unspecified   \n",
       "\n",
       "  Bad Community Board  \n",
       "0               False  \n",
       "1                True  \n",
       "2               False  \n",
       "3               False  \n",
       "4                True  "
      ]
     },
     "execution_count": 1206,
     "metadata": {},
     "output_type": "execute_result"
    }
   ],
   "source": [
    "data['Bad Community Board'] = data['Community Board'].str.startswith('0 U') | data['Community Board'].str.startswith('U')\n",
    "data.head()"
   ]
  },
  {
   "cell_type": "code",
   "execution_count": 1207,
   "metadata": {
    "collapsed": true
   },
   "outputs": [],
   "source": [
    "# Drop the marked districts"
   ]
  },
  {
   "cell_type": "code",
   "execution_count": 1208,
   "metadata": {
    "collapsed": false
   },
   "outputs": [
    {
     "data": {
      "text/html": [
       "<div>\n",
       "<table border=\"1\" class=\"dataframe\">\n",
       "  <thead>\n",
       "    <tr style=\"text-align: right;\">\n",
       "      <th></th>\n",
       "      <th>Complaint Type</th>\n",
       "      <th>Community Board</th>\n",
       "      <th>Borough</th>\n",
       "      <th>Bad Community Board</th>\n",
       "    </tr>\n",
       "  </thead>\n",
       "  <tbody>\n",
       "    <tr>\n",
       "      <th>0</th>\n",
       "      <td>Street Condition</td>\n",
       "      <td>13 BROOKLYN</td>\n",
       "      <td>BROOKLYN</td>\n",
       "      <td>False</td>\n",
       "    </tr>\n",
       "    <tr>\n",
       "      <th>2</th>\n",
       "      <td>Root/Sewer/Sidewalk Condition</td>\n",
       "      <td>18 BROOKLYN</td>\n",
       "      <td>BROOKLYN</td>\n",
       "      <td>False</td>\n",
       "    </tr>\n",
       "    <tr>\n",
       "      <th>3</th>\n",
       "      <td>Illegal Parking</td>\n",
       "      <td>12 BROOKLYN</td>\n",
       "      <td>BROOKLYN</td>\n",
       "      <td>False</td>\n",
       "    </tr>\n",
       "    <tr>\n",
       "      <th>5</th>\n",
       "      <td>Highway Condition</td>\n",
       "      <td>02 STATEN ISLAND</td>\n",
       "      <td>STATEN ISLAND</td>\n",
       "      <td>False</td>\n",
       "    </tr>\n",
       "    <tr>\n",
       "      <th>7</th>\n",
       "      <td>Noise - Commercial</td>\n",
       "      <td>08 MANHATTAN</td>\n",
       "      <td>MANHATTAN</td>\n",
       "      <td>False</td>\n",
       "    </tr>\n",
       "  </tbody>\n",
       "</table>\n",
       "</div>"
      ],
      "text/plain": [
       "                  Complaint Type   Community Board        Borough  \\\n",
       "0               Street Condition       13 BROOKLYN       BROOKLYN   \n",
       "2  Root/Sewer/Sidewalk Condition       18 BROOKLYN       BROOKLYN   \n",
       "3                Illegal Parking       12 BROOKLYN       BROOKLYN   \n",
       "5              Highway Condition  02 STATEN ISLAND  STATEN ISLAND   \n",
       "7             Noise - Commercial      08 MANHATTAN      MANHATTAN   \n",
       "\n",
       "  Bad Community Board  \n",
       "0               False  \n",
       "2               False  \n",
       "3               False  \n",
       "5               False  \n",
       "7               False  "
      ]
     },
     "execution_count": 1208,
     "metadata": {},
     "output_type": "execute_result"
    }
   ],
   "source": [
    "data_clean = data[data['Bad Community Board'] == False]\n",
    "data_clean.head()"
   ]
  },
  {
   "cell_type": "code",
   "execution_count": 1209,
   "metadata": {
    "collapsed": false
   },
   "outputs": [
    {
     "data": {
      "text/plain": [
       "array(['13 BROOKLYN', '18 BROOKLYN', '12 BROOKLYN', '02 STATEN ISLAND',\n",
       "       '08 MANHATTAN', '06 BROOKLYN', '10 BRONX', '06 MANHATTAN',\n",
       "       '04 BROOKLYN', '04 QUEENS', '09 MANHATTAN', '14 BROOKLYN',\n",
       "       '05 MANHATTAN', '02 MANHATTAN', '10 QUEENS', '07 QUEENS',\n",
       "       '02 QUEENS', '11 BROOKLYN', '05 QUEENS', '05 BROOKLYN', '09 QUEENS',\n",
       "       '12 MANHATTAN', '01 BROOKLYN', '11 MANHATTAN', '03 BRONX',\n",
       "       '03 STATEN ISLAND', '08 BROOKLYN', '03 BROOKLYN', '07 MANHATTAN',\n",
       "       '10 MANHATTAN', '04 BRONX', '01 MANHATTAN', '07 BRONX', '09 BRONX',\n",
       "       '03 MANHATTAN', '13 QUEENS', '02 BRONX', '12 QUEENS', '16 BROOKLYN',\n",
       "       '08 QUEENS', '04 MANHATTAN', '14 QUEENS', '10 BROOKLYN',\n",
       "       '11 QUEENS', '06 BRONX', '08 BRONX', '05 BRONX', '15 BROOKLYN',\n",
       "       '02 BROOKLYN', '12 BRONX', '03 QUEENS', '06 QUEENS',\n",
       "       '01 STATEN ISLAND', '01 BRONX', '01 QUEENS', '17 BROOKLYN',\n",
       "       '11 BRONX', '09 BROOKLYN', '07 BROOKLYN', '64 MANHATTAN',\n",
       "       '81 QUEENS', '55 BROOKLYN', '83 QUEENS', '28 BRONX', '80 QUEENS',\n",
       "       '26 BRONX', '95 STATEN ISLAND'], dtype=object)"
      ]
     },
     "execution_count": 1209,
     "metadata": {},
     "output_type": "execute_result"
    }
   ],
   "source": [
    "data_clean['Community Board'].unique()"
   ]
  },
  {
   "cell_type": "code",
   "execution_count": 1210,
   "metadata": {
    "collapsed": false
   },
   "outputs": [
    {
     "data": {
      "text/plain": [
       "67"
      ]
     },
     "execution_count": 1210,
     "metadata": {},
     "output_type": "execute_result"
    }
   ],
   "source": [
    "len(data_clean['Community Board'].unique())"
   ]
  },
  {
   "cell_type": "code",
   "execution_count": 1211,
   "metadata": {
    "collapsed": false
   },
   "outputs": [
    {
     "name": "stderr",
     "output_type": "stream",
     "text": [
      "/opt/rh/anaconda/root/envs/PUI2016_Python3/lib/python3.5/site-packages/ipykernel/__main__.py:1: SettingWithCopyWarning: \n",
      "A value is trying to be set on a copy of a slice from a DataFrame.\n",
      "Try using .loc[row_indexer,col_indexer] = value instead\n",
      "\n",
      "See the caveats in the documentation: http://pandas.pydata.org/pandas-docs/stable/indexing.html#indexing-view-versus-copy\n",
      "  if __name__ == '__main__':\n"
     ]
    }
   ],
   "source": [
    "data_clean['Bad Community Board'] = [int(i[:2]) > 18 for i in data_clean['Community Board']]"
   ]
  },
  {
   "cell_type": "code",
   "execution_count": 1212,
   "metadata": {
    "collapsed": false
   },
   "outputs": [
    {
     "data": {
      "text/html": [
       "<div>\n",
       "<table border=\"1\" class=\"dataframe\">\n",
       "  <thead>\n",
       "    <tr style=\"text-align: right;\">\n",
       "      <th></th>\n",
       "      <th>Complaint Type</th>\n",
       "      <th>Community Board</th>\n",
       "      <th>Borough</th>\n",
       "      <th>Bad Community Board</th>\n",
       "    </tr>\n",
       "  </thead>\n",
       "  <tbody>\n",
       "    <tr>\n",
       "      <th>0</th>\n",
       "      <td>Street Condition</td>\n",
       "      <td>13 BROOKLYN</td>\n",
       "      <td>BROOKLYN</td>\n",
       "      <td>False</td>\n",
       "    </tr>\n",
       "    <tr>\n",
       "      <th>2</th>\n",
       "      <td>Root/Sewer/Sidewalk Condition</td>\n",
       "      <td>18 BROOKLYN</td>\n",
       "      <td>BROOKLYN</td>\n",
       "      <td>False</td>\n",
       "    </tr>\n",
       "    <tr>\n",
       "      <th>3</th>\n",
       "      <td>Illegal Parking</td>\n",
       "      <td>12 BROOKLYN</td>\n",
       "      <td>BROOKLYN</td>\n",
       "      <td>False</td>\n",
       "    </tr>\n",
       "    <tr>\n",
       "      <th>5</th>\n",
       "      <td>Highway Condition</td>\n",
       "      <td>02 STATEN ISLAND</td>\n",
       "      <td>STATEN ISLAND</td>\n",
       "      <td>False</td>\n",
       "    </tr>\n",
       "    <tr>\n",
       "      <th>7</th>\n",
       "      <td>Noise - Commercial</td>\n",
       "      <td>08 MANHATTAN</td>\n",
       "      <td>MANHATTAN</td>\n",
       "      <td>False</td>\n",
       "    </tr>\n",
       "  </tbody>\n",
       "</table>\n",
       "</div>"
      ],
      "text/plain": [
       "                  Complaint Type   Community Board        Borough  \\\n",
       "0               Street Condition       13 BROOKLYN       BROOKLYN   \n",
       "2  Root/Sewer/Sidewalk Condition       18 BROOKLYN       BROOKLYN   \n",
       "3                Illegal Parking       12 BROOKLYN       BROOKLYN   \n",
       "5              Highway Condition  02 STATEN ISLAND  STATEN ISLAND   \n",
       "7             Noise - Commercial      08 MANHATTAN      MANHATTAN   \n",
       "\n",
       "  Bad Community Board  \n",
       "0               False  \n",
       "2               False  \n",
       "3               False  \n",
       "5               False  \n",
       "7               False  "
      ]
     },
     "execution_count": 1212,
     "metadata": {},
     "output_type": "execute_result"
    }
   ],
   "source": [
    "data_clean = data_clean[data_clean['Bad Community Board'] == False]\n",
    "data_clean.head()"
   ]
  },
  {
   "cell_type": "code",
   "execution_count": 1213,
   "metadata": {
    "collapsed": false
   },
   "outputs": [
    {
     "data": {
      "text/plain": [
       "59"
      ]
     },
     "execution_count": 1213,
     "metadata": {},
     "output_type": "execute_result"
    }
   ],
   "source": [
    "len(data_clean['Community Board'].unique())"
   ]
  },
  {
   "cell_type": "code",
   "execution_count": 1214,
   "metadata": {
    "collapsed": false
   },
   "outputs": [
    {
     "data": {
      "text/plain": [
       "array(['13 BROOKLYN', '18 BROOKLYN', '12 BROOKLYN', '02 STATEN ISLAND',\n",
       "       '08 MANHATTAN', '06 BROOKLYN', '10 BRONX', '06 MANHATTAN',\n",
       "       '04 BROOKLYN', '04 QUEENS', '09 MANHATTAN', '14 BROOKLYN',\n",
       "       '05 MANHATTAN', '02 MANHATTAN', '10 QUEENS', '07 QUEENS',\n",
       "       '02 QUEENS', '11 BROOKLYN', '05 QUEENS', '05 BROOKLYN', '09 QUEENS',\n",
       "       '12 MANHATTAN', '01 BROOKLYN', '11 MANHATTAN', '03 BRONX',\n",
       "       '03 STATEN ISLAND', '08 BROOKLYN', '03 BROOKLYN', '07 MANHATTAN',\n",
       "       '10 MANHATTAN', '04 BRONX', '01 MANHATTAN', '07 BRONX', '09 BRONX',\n",
       "       '03 MANHATTAN', '13 QUEENS', '02 BRONX', '12 QUEENS', '16 BROOKLYN',\n",
       "       '08 QUEENS', '04 MANHATTAN', '14 QUEENS', '10 BROOKLYN',\n",
       "       '11 QUEENS', '06 BRONX', '08 BRONX', '05 BRONX', '15 BROOKLYN',\n",
       "       '02 BROOKLYN', '12 BRONX', '03 QUEENS', '06 QUEENS',\n",
       "       '01 STATEN ISLAND', '01 BRONX', '01 QUEENS', '17 BROOKLYN',\n",
       "       '11 BRONX', '09 BROOKLYN', '07 BROOKLYN'], dtype=object)"
      ]
     },
     "execution_count": 1214,
     "metadata": {},
     "output_type": "execute_result"
    }
   ],
   "source": [
    "data_clean['Community Board'].unique()"
   ]
  },
  {
   "cell_type": "code",
   "execution_count": 1215,
   "metadata": {
    "collapsed": true
   },
   "outputs": [],
   "source": [
    "# Produce your result: Generate an indicator which ranks the Community District by complaint numbers \n",
    "# on the Community district level"
   ]
  },
  {
   "cell_type": "code",
   "execution_count": 1216,
   "metadata": {
    "collapsed": true
   },
   "outputs": [],
   "source": [
    "# Safe reduced data frame (Community District level)"
   ]
  },
  {
   "cell_type": "code",
   "execution_count": 1217,
   "metadata": {
    "collapsed": false
   },
   "outputs": [
    {
     "data": {
      "text/html": [
       "<div>\n",
       "<table border=\"1\" class=\"dataframe\">\n",
       "  <thead>\n",
       "    <tr style=\"text-align: right;\">\n",
       "      <th></th>\n",
       "      <th>Community Board</th>\n",
       "      <th>Number of Complaints</th>\n",
       "    </tr>\n",
       "  </thead>\n",
       "  <tbody>\n",
       "    <tr>\n",
       "      <th>0</th>\n",
       "      <td>01 BRONX</td>\n",
       "      <td>82</td>\n",
       "    </tr>\n",
       "    <tr>\n",
       "      <th>1</th>\n",
       "      <td>01 BROOKLYN</td>\n",
       "      <td>204</td>\n",
       "    </tr>\n",
       "    <tr>\n",
       "      <th>2</th>\n",
       "      <td>01 MANHATTAN</td>\n",
       "      <td>101</td>\n",
       "    </tr>\n",
       "    <tr>\n",
       "      <th>3</th>\n",
       "      <td>01 QUEENS</td>\n",
       "      <td>190</td>\n",
       "    </tr>\n",
       "    <tr>\n",
       "      <th>4</th>\n",
       "      <td>01 STATEN ISLAND</td>\n",
       "      <td>203</td>\n",
       "    </tr>\n",
       "  </tbody>\n",
       "</table>\n",
       "</div>"
      ],
      "text/plain": [
       "    Community Board  Number of Complaints\n",
       "0          01 BRONX                    82\n",
       "1       01 BROOKLYN                   204\n",
       "2      01 MANHATTAN                   101\n",
       "3         01 QUEENS                   190\n",
       "4  01 STATEN ISLAND                   203"
      ]
     },
     "execution_count": 1217,
     "metadata": {},
     "output_type": "execute_result"
    }
   ],
   "source": [
    "community_complaints = data_clean.groupby('Community Board').count()\n",
    "community_complaints.drop(community_complaints.columns[[1,2]], axis=1, inplace=True)\n",
    "community_complaints.columns = ['Number of Complaints']\n",
    "community_complaints.reset_index(inplace=True)\n",
    "community_complaints.head()"
   ]
  },
  {
   "cell_type": "markdown",
   "metadata": {},
   "source": [
    "# 4. Think about the interpretation of your results?\n",
    "What do you have to keep in mind when interpreting your results? Are they generable? Does the way the data is collected influence your results? To better inform city agancies it might be good to explore in more detail the underlying dempgraphics/infrastructure of a Community District becasue this might influence 311 calls. You can do this by merging external data on the Community District level to your analysis data. "
   ]
  },
  {
   "cell_type": "code",
   "execution_count": 1218,
   "metadata": {
    "collapsed": false
   },
   "outputs": [
    {
     "data": {
      "text/html": [
       "<div>\n",
       "<table border=\"1\" class=\"dataframe\">\n",
       "  <thead>\n",
       "    <tr style=\"text-align: right;\">\n",
       "      <th></th>\n",
       "      <th>FIPS</th>\n",
       "      <th>cd_id</th>\n",
       "      <th>Total Population</th>\n",
       "      <th>Population Density (per sq. mile)</th>\n",
       "      <th>% Total Population: Male</th>\n",
       "      <th>% Total Population: 18 to 24 Years</th>\n",
       "      <th>% Total Population: 25 to 34 Years</th>\n",
       "      <th>% Total Population: 35 to 44 Years</th>\n",
       "      <th>% Population 5 Years And Over: Speak Only English</th>\n",
       "      <th>% Population 5 Years And Over: Spanish or Spanish Creole</th>\n",
       "      <th>...</th>\n",
       "      <th>Employed Civilian Population 16 Years And Over: Production, transportation, and material moving  occupations: Production occupations</th>\n",
       "      <th>Employed Civilian Population 16 Years And Over: Production, transportation, and material moving  occupations: Transportation and material moving occupations</th>\n",
       "      <th>% Employed Civilian Population 16 Years And Over: Management, professional, and related occupations</th>\n",
       "      <th>% Employed Civilian Population 16 Years And Over: Service occupations</th>\n",
       "      <th>% Employed Civilian Population 16 Years And Over: Sales and office occupations</th>\n",
       "      <th>% Employed Civilian Population 16 Years And Over: Farming, fishing, and forestry occupations</th>\n",
       "      <th>% Employed Civilian Population 16 Years And Over: Construction, extraction, and maintenance  occupations</th>\n",
       "      <th>% Employed Civilian Population 16 Years And Over: Production, transportation, and material moving  occupations</th>\n",
       "      <th>% Employed Civilian Population 16 Years And Over: Production, transportation, and material moving  occupations: Production occupations</th>\n",
       "      <th>% Employed Civilian Population 16 Years And Over: Production, transportation, and material moving  occupations: Transportation and material moving occupations</th>\n",
       "    </tr>\n",
       "  </thead>\n",
       "  <tbody>\n",
       "    <tr>\n",
       "      <th>0</th>\n",
       "      <td>3603701</td>\n",
       "      <td>BX08</td>\n",
       "      <td>106737</td>\n",
       "      <td>31229.95006</td>\n",
       "      <td>46.65</td>\n",
       "      <td>10.73</td>\n",
       "      <td>15.04</td>\n",
       "      <td>11.32</td>\n",
       "      <td>46.80</td>\n",
       "      <td>39.24</td>\n",
       "      <td>...</td>\n",
       "      <td>665</td>\n",
       "      <td>1518</td>\n",
       "      <td>42.66</td>\n",
       "      <td>28.95</td>\n",
       "      <td>20.89</td>\n",
       "      <td>0.24</td>\n",
       "      <td>2.65</td>\n",
       "      <td>4.60</td>\n",
       "      <td>1.40</td>\n",
       "      <td>3.20</td>\n",
       "    </tr>\n",
       "    <tr>\n",
       "      <th>1</th>\n",
       "      <td>3603702</td>\n",
       "      <td>BX12</td>\n",
       "      <td>134644</td>\n",
       "      <td>19966.67839</td>\n",
       "      <td>46.35</td>\n",
       "      <td>11.35</td>\n",
       "      <td>14.29</td>\n",
       "      <td>12.57</td>\n",
       "      <td>73.09</td>\n",
       "      <td>18.19</td>\n",
       "      <td>...</td>\n",
       "      <td>1156</td>\n",
       "      <td>4174</td>\n",
       "      <td>29.57</td>\n",
       "      <td>33.98</td>\n",
       "      <td>20.40</td>\n",
       "      <td>0.00</td>\n",
       "      <td>7.08</td>\n",
       "      <td>8.97</td>\n",
       "      <td>1.95</td>\n",
       "      <td>7.02</td>\n",
       "    </tr>\n",
       "    <tr>\n",
       "      <th>2</th>\n",
       "      <td>3603703</td>\n",
       "      <td>BX10</td>\n",
       "      <td>121209</td>\n",
       "      <td>12913.81703</td>\n",
       "      <td>45.20</td>\n",
       "      <td>8.62</td>\n",
       "      <td>13.74</td>\n",
       "      <td>12.78</td>\n",
       "      <td>61.79</td>\n",
       "      <td>26.43</td>\n",
       "      <td>...</td>\n",
       "      <td>941</td>\n",
       "      <td>3433</td>\n",
       "      <td>36.20</td>\n",
       "      <td>22.85</td>\n",
       "      <td>25.09</td>\n",
       "      <td>0.00</td>\n",
       "      <td>7.68</td>\n",
       "      <td>8.18</td>\n",
       "      <td>1.76</td>\n",
       "      <td>6.42</td>\n",
       "    </tr>\n",
       "    <tr>\n",
       "      <th>3</th>\n",
       "      <td>3603704</td>\n",
       "      <td>BX11</td>\n",
       "      <td>135839</td>\n",
       "      <td>35677.95453</td>\n",
       "      <td>50.09</td>\n",
       "      <td>8.10</td>\n",
       "      <td>17.43</td>\n",
       "      <td>14.09</td>\n",
       "      <td>43.22</td>\n",
       "      <td>36.45</td>\n",
       "      <td>...</td>\n",
       "      <td>2189</td>\n",
       "      <td>5592</td>\n",
       "      <td>30.06</td>\n",
       "      <td>27.86</td>\n",
       "      <td>22.24</td>\n",
       "      <td>0.00</td>\n",
       "      <td>7.03</td>\n",
       "      <td>12.81</td>\n",
       "      <td>3.60</td>\n",
       "      <td>9.20</td>\n",
       "    </tr>\n",
       "    <tr>\n",
       "      <th>4</th>\n",
       "      <td>3603705</td>\n",
       "      <td>BX03</td>\n",
       "      <td>172247</td>\n",
       "      <td>39405.79222</td>\n",
       "      <td>44.72</td>\n",
       "      <td>14.24</td>\n",
       "      <td>14.89</td>\n",
       "      <td>12.38</td>\n",
       "      <td>36.82</td>\n",
       "      <td>54.24</td>\n",
       "      <td>...</td>\n",
       "      <td>1437</td>\n",
       "      <td>5436</td>\n",
       "      <td>16.80</td>\n",
       "      <td>41.00</td>\n",
       "      <td>22.29</td>\n",
       "      <td>0.03</td>\n",
       "      <td>8.45</td>\n",
       "      <td>11.43</td>\n",
       "      <td>2.39</td>\n",
       "      <td>9.04</td>\n",
       "    </tr>\n",
       "  </tbody>\n",
       "</table>\n",
       "<p>5 rows × 158 columns</p>\n",
       "</div>"
      ],
      "text/plain": [
       "      FIPS cd_id  Total Population  Population Density (per sq. mile)  \\\n",
       "0  3603701  BX08            106737                        31229.95006   \n",
       "1  3603702  BX12            134644                        19966.67839   \n",
       "2  3603703  BX10            121209                        12913.81703   \n",
       "3  3603704  BX11            135839                        35677.95453   \n",
       "4  3603705  BX03            172247                        39405.79222   \n",
       "\n",
       "   % Total Population: Male  % Total Population: 18 to 24 Years  \\\n",
       "0                     46.65                               10.73   \n",
       "1                     46.35                               11.35   \n",
       "2                     45.20                                8.62   \n",
       "3                     50.09                                8.10   \n",
       "4                     44.72                               14.24   \n",
       "\n",
       "   % Total Population: 25 to 34 Years  % Total Population: 35 to 44 Years  \\\n",
       "0                               15.04                               11.32   \n",
       "1                               14.29                               12.57   \n",
       "2                               13.74                               12.78   \n",
       "3                               17.43                               14.09   \n",
       "4                               14.89                               12.38   \n",
       "\n",
       "   % Population 5 Years And Over: Speak Only English  \\\n",
       "0                                              46.80   \n",
       "1                                              73.09   \n",
       "2                                              61.79   \n",
       "3                                              43.22   \n",
       "4                                              36.82   \n",
       "\n",
       "   % Population 5 Years And Over: Spanish or Spanish Creole  \\\n",
       "0                                              39.24          \n",
       "1                                              18.19          \n",
       "2                                              26.43          \n",
       "3                                              36.45          \n",
       "4                                              54.24          \n",
       "\n",
       "                                                                                ...                                                                                \\\n",
       "0                                                                               ...                                                                                 \n",
       "1                                                                               ...                                                                                 \n",
       "2                                                                               ...                                                                                 \n",
       "3                                                                               ...                                                                                 \n",
       "4                                                                               ...                                                                                 \n",
       "\n",
       "   Employed Civilian Population 16 Years And Over: Production, transportation, and material moving  occupations: Production occupations  \\\n",
       "0                                                665                                                                                      \n",
       "1                                               1156                                                                                      \n",
       "2                                                941                                                                                      \n",
       "3                                               2189                                                                                      \n",
       "4                                               1437                                                                                      \n",
       "\n",
       "   Employed Civilian Population 16 Years And Over: Production, transportation, and material moving  occupations: Transportation and material moving occupations  \\\n",
       "0                                               1518                                                                                                              \n",
       "1                                               4174                                                                                                              \n",
       "2                                               3433                                                                                                              \n",
       "3                                               5592                                                                                                              \n",
       "4                                               5436                                                                                                              \n",
       "\n",
       "   % Employed Civilian Population 16 Years And Over: Management, professional, and related occupations  \\\n",
       "0                                              42.66                                                     \n",
       "1                                              29.57                                                     \n",
       "2                                              36.20                                                     \n",
       "3                                              30.06                                                     \n",
       "4                                              16.80                                                     \n",
       "\n",
       "   % Employed Civilian Population 16 Years And Over: Service occupations  \\\n",
       "0                                              28.95                       \n",
       "1                                              33.98                       \n",
       "2                                              22.85                       \n",
       "3                                              27.86                       \n",
       "4                                              41.00                       \n",
       "\n",
       "   % Employed Civilian Population 16 Years And Over: Sales and office occupations  \\\n",
       "0                                              20.89                                \n",
       "1                                              20.40                                \n",
       "2                                              25.09                                \n",
       "3                                              22.24                                \n",
       "4                                              22.29                                \n",
       "\n",
       "   % Employed Civilian Population 16 Years And Over: Farming, fishing, and forestry occupations  \\\n",
       "0                                               0.24                                              \n",
       "1                                               0.00                                              \n",
       "2                                               0.00                                              \n",
       "3                                               0.00                                              \n",
       "4                                               0.03                                              \n",
       "\n",
       "   % Employed Civilian Population 16 Years And Over: Construction, extraction, and maintenance  occupations  \\\n",
       "0                                               2.65                                                          \n",
       "1                                               7.08                                                          \n",
       "2                                               7.68                                                          \n",
       "3                                               7.03                                                          \n",
       "4                                               8.45                                                          \n",
       "\n",
       "   % Employed Civilian Population 16 Years And Over: Production, transportation, and material moving  occupations  \\\n",
       "0                                               4.60                                                                \n",
       "1                                               8.97                                                                \n",
       "2                                               8.18                                                                \n",
       "3                                              12.81                                                                \n",
       "4                                              11.43                                                                \n",
       "\n",
       "   % Employed Civilian Population 16 Years And Over: Production, transportation, and material moving  occupations: Production occupations  \\\n",
       "0                                               1.40                                                                                        \n",
       "1                                               1.95                                                                                        \n",
       "2                                               1.76                                                                                        \n",
       "3                                               3.60                                                                                        \n",
       "4                                               2.39                                                                                        \n",
       "\n",
       "   % Employed Civilian Population 16 Years And Over: Production, transportation, and material moving  occupations: Transportation and material moving occupations  \n",
       "0                                               3.20                                                                                                               \n",
       "1                                               7.02                                                                                                               \n",
       "2                                               6.42                                                                                                               \n",
       "3                                               9.20                                                                                                               \n",
       "4                                               9.04                                                                                                               \n",
       "\n",
       "[5 rows x 158 columns]"
      ]
     },
     "execution_count": 1218,
     "metadata": {},
     "output_type": "execute_result"
    }
   ],
   "source": [
    "# Population by Community District\n",
    "df_pop = pd.read_csv(\"http://cosmo.nyu.edu/~fb55/PUI2016/data//Final_Demographics.csv\")\n",
    "df_pop.head()"
   ]
  },
  {
   "cell_type": "code",
   "execution_count": 1219,
   "metadata": {
    "collapsed": false
   },
   "outputs": [],
   "source": [
    "# Check variables in file"
   ]
  },
  {
   "cell_type": "code",
   "execution_count": 1220,
   "metadata": {
    "collapsed": false,
    "scrolled": false
   },
   "outputs": [
    {
     "data": {
      "text/plain": [
       "['FIPS',\n",
       " 'cd_id',\n",
       " 'Total Population',\n",
       " 'Population Density (per sq. mile)',\n",
       " '% Total Population: Male',\n",
       " '% Total Population: 18 to 24 Years',\n",
       " '% Total Population: 25 to 34 Years',\n",
       " '% Total Population: 35 to 44 Years',\n",
       " '% Population 5 Years And Over: Speak Only English',\n",
       " '% Population 5 Years And Over: Spanish or Spanish Creole',\n",
       " '% Population 5 Years And Over: Spanish or Spanish Creole: Speak English \"very Well\"',\n",
       " '% Population 5 Years And Over: Spanish or Spanish Creole: Speak English Less Than \"very Well\"',\n",
       " 'Population 25 Years and over:',\n",
       " 'Population 25 Years and over: Less Than High School',\n",
       " 'Population 25 Years and over: High School Graduate (includes equivalency)',\n",
       " 'Population 25 Years and over: Some college',\n",
       " \"Population 25 Years and over: Bachelor's degree\",\n",
       " \"Population 25 Years and over: Master's degree\",\n",
       " 'Population 25 Years and over: Professional school degree',\n",
       " 'Population 25 Years and over: Doctorate degree',\n",
       " '% Population 25 Years and over: Less Than High School',\n",
       " '% Population 25 Years and over: High School Graduate (includes equivalency)',\n",
       " '% Population 25 Years and over: Some college',\n",
       " \"% Population 25 Years and over: Bachelor's degree\",\n",
       " \"% Population 25 Years and over: Master's degree\",\n",
       " '% Population 25 Years and over: Professional school degree',\n",
       " '% Population 25 Years and over: Doctorate degree',\n",
       " 'Population 25 Years and over:.1',\n",
       " 'Population 25 Years and over: Less Than High School.1',\n",
       " 'Population 25 Years and over: High School Graduate or more (includes equivalency)',\n",
       " 'Population 25 Years and over: Some college or more',\n",
       " \"Population 25 Years and over: Bachelor's degree or more\",\n",
       " \"Population 25 Years and over: Master's degree or more\",\n",
       " 'Population 25 Years and over: Professional school degree or more',\n",
       " 'Population 25 Years and over: Doctorate degree.1',\n",
       " '% Population 25 Years and over: Less Than High School.1',\n",
       " '% Population 25 Years and over: High School Graduate or more (includes equivalency)',\n",
       " '% Population 25 Years and over: Some college or more',\n",
       " \"% Population 25 Years and over: Bachelor's degree or more\",\n",
       " \"% Population 25 Years and over: Master's degree or more\",\n",
       " '% Population 25 Years and over: Professional school degree or more',\n",
       " '% Population 25 Years and over: Doctorate degree.1',\n",
       " 'Population 3 Years and over:',\n",
       " 'Population 3 Years and over: Enrolled in School',\n",
       " 'Population 3 Years and over: Not Enrolled in School',\n",
       " '% Population 3 Years and over: Enrolled in School',\n",
       " '% Population 3 Years and over: Not Enrolled in School',\n",
       " 'Population 3 Years and over Enrolled In School',\n",
       " 'Population 3 Years and over Enrolled In School: Public School',\n",
       " 'Population 3 Years and over Enrolled In School: Public School: Pre-school',\n",
       " 'Population 3 Years and over Enrolled In School: Public School: K-8',\n",
       " 'Population 3 Years and over Enrolled In School: Public School: 9-12',\n",
       " 'Population 3 Years and over Enrolled In School: Public School: College',\n",
       " 'Population 3 Years and over Enrolled In School: Private School',\n",
       " 'Population 3 Years and over Enrolled In School: Private School: Pre-school',\n",
       " 'Population 3 Years and over Enrolled In School: Private School: K-8',\n",
       " 'Population 3 Years and over Enrolled In School: Private School: 9-12',\n",
       " 'Population 3 Years and over Enrolled In School: Private School: College',\n",
       " '% Population 3 Years and over Enrolled In School: Public School',\n",
       " '% Population 3 Years and over Enrolled In School: Public School: Pre-school',\n",
       " '% Population 3 Years and over Enrolled In School: Public School: K-8',\n",
       " '% Population 3 Years and over Enrolled In School: Public School: 9-12',\n",
       " '% Population 3 Years and over Enrolled In School: Public School: College',\n",
       " '% Population 3 Years and over Enrolled In School: Private School',\n",
       " '% Population 3 Years and over Enrolled In School: Private School: Pre-school',\n",
       " '% Population 3 Years and over Enrolled In School: Private School: K-8',\n",
       " '% Population 3 Years and over Enrolled In School: Private School: 9-12',\n",
       " '% Population 3 Years and over Enrolled In School: Private School: College',\n",
       " 'Employed civilian Population 16 Years and over:',\n",
       " 'Employed civilian Population 16 Years and over: Management, business, and financial operations  occupations',\n",
       " 'Employed civilian Population 16 Years and over: Professional and related occupations',\n",
       " 'Employed civilian Population 16 Years and over: Healthcare support occupations',\n",
       " 'Employed civilian Population 16 Years and over: Protective service occupations',\n",
       " 'Employed civilian Population 16 Years and over: Food preparation and serving related occupations',\n",
       " 'Employed civilian Population 16 Years and over: Building and grounds cleaning and maintenance  occupations',\n",
       " 'Employed civilian Population 16 Years and over: Personal care and service occupations',\n",
       " 'Employed civilian Population 16 Years and over: Sales and related occupations',\n",
       " 'Employed civilian Population 16 Years and over: Office and administrative support occupations',\n",
       " 'Employed civilian Population 16 Years and over: Farming, fishing, and forestry occupations',\n",
       " 'Employed civilian Population 16 Years and over: Construction, extraction, and maintenance  occupations',\n",
       " 'Employed civilian Population 16 Years and over: Production occupations',\n",
       " 'Employed civilian Population 16 Years and over: Transportation and material moving occupations',\n",
       " '% Employed civilian Population 16 Years and over: Management, business, and financial operations  occupations',\n",
       " '% Employed civilian Population 16 Years and over: Professional and related occupations',\n",
       " '% Employed civilian Population 16 Years and over: Healthcare support occupations',\n",
       " '% Employed civilian Population 16 Years and over: Protective service occupations',\n",
       " '% Employed civilian Population 16 Years and over: Food preparation and serving related occupations',\n",
       " '% Employed civilian Population 16 Years and over: Building and grounds cleaning and maintenance  occupations',\n",
       " '% Employed civilian Population 16 Years and over: Personal care and service occupations',\n",
       " '% Employed civilian Population 16 Years and over: Sales and related occupations',\n",
       " '% Employed civilian Population 16 Years and over: Office and administrative support occupations',\n",
       " '% Employed civilian Population 16 Years and over: Farming, fishing, and forestry occupations',\n",
       " '% Employed civilian Population 16 Years and over: Construction, extraction, and maintenance  occupations',\n",
       " '% Employed civilian Population 16 Years and over: Production occupations',\n",
       " '% Employed civilian Population 16 Years and over: Transportation and material moving occupations',\n",
       " 'Employed Civilian Population 16 Years And Over:',\n",
       " 'Employed Civilian Population 16 Years And Over: Private Sector',\n",
       " 'Employed Civilian Population 16 Years And Over: Public Sector',\n",
       " 'Employed Civilian Population 16 Years And Over: Self-Employed (incorporated and not incorporated)',\n",
       " 'Employed Civilian Population 16 Years And Over: Private Non-Profit',\n",
       " 'Employed Civilian Population 16 Years And Over: Unpaid Family Workers',\n",
       " '% Employed Civilian Population 16 Years And Over: Private Sector',\n",
       " '% Employed Civilian Population 16 Years And Over: Public Sector',\n",
       " '% Employed Civilian Population 16 Years And Over: Self-Employed (incorporated and not incorporated)',\n",
       " '% Employed Civilian Population 16 Years And Over: Private Non-Profit',\n",
       " '% Employed Civilian Population 16 Years And Over: Unpaid Family Workers',\n",
       " 'Households:',\n",
       " 'Households: Less than $10,000',\n",
       " 'Households: $10,000 to $14,999',\n",
       " 'Households: $15,000 to $19,999',\n",
       " 'Households: $20,000 to $24,999',\n",
       " 'Households: $25,000 to $29,999',\n",
       " 'Households: $30,000 to $34,999',\n",
       " 'Households: $35,000 to $39,999',\n",
       " 'Households: $40,000 to $44,999',\n",
       " 'Households: $45,000 to $49,999',\n",
       " 'Households: $50,000 to $59,999',\n",
       " 'Households: $60,000 to $74,999',\n",
       " 'Households: $75,000 to $99,999',\n",
       " 'Households: $100,000 to $124,999',\n",
       " 'Households: $125,000 to $149,999',\n",
       " 'Households: $150,000 to $199,999',\n",
       " 'Households: $200,000 or More',\n",
       " '% Households: Less than $10,000',\n",
       " '% Households: $10,000 to $14,999',\n",
       " '% Households: $15,000 to $19,999',\n",
       " '% Households: $20,000 to $24,999',\n",
       " '% Households: $25,000 to $29,999',\n",
       " '% Households: $30,000 to $34,999',\n",
       " '% Households: $35,000 to $39,999',\n",
       " '% Households: $40,000 to $44,999',\n",
       " '% Households: $45,000 to $49,999',\n",
       " '% Households: $50,000 to $59,999',\n",
       " '% Households: $60,000 to $74,999',\n",
       " '% Households: $75,000 to $99,999',\n",
       " '% Households: $100,000 to $124,999',\n",
       " '% Households: $125,000 to $149,999',\n",
       " '% Households: $150,000 to $199,999',\n",
       " '% Households: $200,000 or More',\n",
       " 'Median household income (In 2014 Inflation Adjusted Dollars)',\n",
       " 'Per capita income (In 2014 Inflation Adjusted Dollars)',\n",
       " 'Employed Civilian Population 16 Years And Over:.1',\n",
       " 'Employed Civilian Population 16 Years And Over: Management, professional, and related occupations',\n",
       " 'Employed Civilian Population 16 Years And Over: Service occupations',\n",
       " 'Employed Civilian Population 16 Years And Over: Sales and office occupations',\n",
       " 'Employed Civilian Population 16 Years And Over: Farming, fishing, and forestry occupations',\n",
       " 'Employed Civilian Population 16 Years And Over: Construction, extraction, and maintenance  occupations',\n",
       " 'Employed Civilian Population 16 Years And Over: Production, transportation, and material moving  occupations',\n",
       " 'Employed Civilian Population 16 Years And Over: Production, transportation, and material moving  occupations: Production occupations',\n",
       " 'Employed Civilian Population 16 Years And Over: Production, transportation, and material moving  occupations: Transportation and material moving occupations',\n",
       " '% Employed Civilian Population 16 Years And Over: Management, professional, and related occupations',\n",
       " '% Employed Civilian Population 16 Years And Over: Service occupations',\n",
       " '% Employed Civilian Population 16 Years And Over: Sales and office occupations',\n",
       " '% Employed Civilian Population 16 Years And Over: Farming, fishing, and forestry occupations',\n",
       " '% Employed Civilian Population 16 Years And Over: Construction, extraction, and maintenance  occupations',\n",
       " '% Employed Civilian Population 16 Years And Over: Production, transportation, and material moving  occupations',\n",
       " '% Employed Civilian Population 16 Years And Over: Production, transportation, and material moving  occupations: Production occupations',\n",
       " '% Employed Civilian Population 16 Years And Over: Production, transportation, and material moving  occupations: Transportation and material moving occupations']"
      ]
     },
     "execution_count": 1220,
     "metadata": {},
     "output_type": "execute_result"
    }
   ],
   "source": [
    "list(df_pop.columns.values)"
   ]
  },
  {
   "cell_type": "code",
   "execution_count": 1221,
   "metadata": {
    "collapsed": false
   },
   "outputs": [],
   "source": [
    "# How many community districts are in file? "
   ]
  },
  {
   "cell_type": "code",
   "execution_count": 1222,
   "metadata": {
    "collapsed": false
   },
   "outputs": [
    {
     "data": {
      "text/plain": [
       "59"
      ]
     },
     "execution_count": 1222,
     "metadata": {},
     "output_type": "execute_result"
    }
   ],
   "source": [
    "len(df_pop['cd_id'].unique())"
   ]
  },
  {
   "cell_type": "code",
   "execution_count": 1223,
   "metadata": {
    "collapsed": true
   },
   "outputs": [],
   "source": [
    "# Manipulate data to get some information on demographics by Community District. \n",
    "# Think about who might be more likely to call 311"
   ]
  },
  {
   "cell_type": "code",
   "execution_count": 1224,
   "metadata": {
    "collapsed": true
   },
   "outputs": [],
   "source": [
    "# Save data frame"
   ]
  },
  {
   "cell_type": "code",
   "execution_count": 1225,
   "metadata": {
    "collapsed": false
   },
   "outputs": [
    {
     "data": {
      "text/html": [
       "<div>\n",
       "<table border=\"1\" class=\"dataframe\">\n",
       "  <thead>\n",
       "    <tr style=\"text-align: right;\">\n",
       "      <th></th>\n",
       "      <th>cd_id</th>\n",
       "      <th>median_house_income</th>\n",
       "    </tr>\n",
       "  </thead>\n",
       "  <tbody>\n",
       "    <tr>\n",
       "      <th>0</th>\n",
       "      <td>BX08</td>\n",
       "      <td>54224</td>\n",
       "    </tr>\n",
       "    <tr>\n",
       "      <th>1</th>\n",
       "      <td>BX12</td>\n",
       "      <td>44906</td>\n",
       "    </tr>\n",
       "    <tr>\n",
       "      <th>2</th>\n",
       "      <td>BX10</td>\n",
       "      <td>54962</td>\n",
       "    </tr>\n",
       "    <tr>\n",
       "      <th>3</th>\n",
       "      <td>BX11</td>\n",
       "      <td>47910</td>\n",
       "    </tr>\n",
       "    <tr>\n",
       "      <th>4</th>\n",
       "      <td>BX03</td>\n",
       "      <td>22041</td>\n",
       "    </tr>\n",
       "  </tbody>\n",
       "</table>\n",
       "</div>"
      ],
      "text/plain": [
       "  cd_id  median_house_income\n",
       "0  BX08                54224\n",
       "1  BX12                44906\n",
       "2  BX10                54962\n",
       "3  BX11                47910\n",
       "4  BX03                22041"
      ]
     },
     "execution_count": 1225,
     "metadata": {},
     "output_type": "execute_result"
    }
   ],
   "source": [
    "community_demo = df_pop[['cd_id', 'Median household income (In 2014 Inflation Adjusted Dollars)']]\n",
    "community_demo.columns = ['cd_id', 'median_house_income']\n",
    "community_demo.head()"
   ]
  },
  {
   "cell_type": "code",
   "execution_count": 1226,
   "metadata": {
    "collapsed": false
   },
   "outputs": [
    {
     "data": {
      "text/html": [
       "<div>\n",
       "<table border=\"1\" class=\"dataframe\">\n",
       "  <thead>\n",
       "    <tr style=\"text-align: right;\">\n",
       "      <th></th>\n",
       "      <th>FIPS</th>\n",
       "      <th>Geographic Identifier</th>\n",
       "      <th>Qualifying Name</th>\n",
       "      <th>Households</th>\n",
       "      <th>Households: With An Internet Subscription</th>\n",
       "      <th>Households: Dial-Up Alone</th>\n",
       "      <th>Households: Dsl</th>\n",
       "      <th>Households: With Mobile Broadband</th>\n",
       "      <th>Households: Without Mobile Broadband</th>\n",
       "      <th>Households: Cable Modem</th>\n",
       "      <th>...</th>\n",
       "      <th>Households: Mobile Broadband Alone or With Dialup</th>\n",
       "      <th>Households: Internet Access Without A Subscription</th>\n",
       "      <th>Households: No Internet Access</th>\n",
       "      <th>% Households: With An Internet Subscription</th>\n",
       "      <th>Households.1</th>\n",
       "      <th>Households: Has A Computer</th>\n",
       "      <th>Households: With Dial-Up Internet Subscription Alone</th>\n",
       "      <th>Households: With A Broadband Internet Subscription</th>\n",
       "      <th>Households: Without An Internet Subscription</th>\n",
       "      <th>Households: No Computer</th>\n",
       "    </tr>\n",
       "  </thead>\n",
       "  <tbody>\n",
       "    <tr>\n",
       "      <th>0</th>\n",
       "      <td>3603701</td>\n",
       "      <td>79500US3603701</td>\n",
       "      <td>NYC-Bronx Community District 8--Riverdale, New...</td>\n",
       "      <td>42035</td>\n",
       "      <td>31795</td>\n",
       "      <td>444</td>\n",
       "      <td>2813</td>\n",
       "      <td>946</td>\n",
       "      <td>1867</td>\n",
       "      <td>19178</td>\n",
       "      <td>...</td>\n",
       "      <td>2168</td>\n",
       "      <td>2119</td>\n",
       "      <td>8121</td>\n",
       "      <td>75.64</td>\n",
       "      <td>42035</td>\n",
       "      <td>35048</td>\n",
       "      <td>404</td>\n",
       "      <td>30943</td>\n",
       "      <td>3701</td>\n",
       "      <td>6987</td>\n",
       "    </tr>\n",
       "    <tr>\n",
       "      <th>1</th>\n",
       "      <td>3603702</td>\n",
       "      <td>79500US3603702</td>\n",
       "      <td>NYC-Bronx Community District 12--Wakefield, Ne...</td>\n",
       "      <td>44830</td>\n",
       "      <td>32243</td>\n",
       "      <td>178</td>\n",
       "      <td>849</td>\n",
       "      <td>405</td>\n",
       "      <td>444</td>\n",
       "      <td>18653</td>\n",
       "      <td>...</td>\n",
       "      <td>928</td>\n",
       "      <td>1891</td>\n",
       "      <td>10696</td>\n",
       "      <td>71.92</td>\n",
       "      <td>44830</td>\n",
       "      <td>36700</td>\n",
       "      <td>178</td>\n",
       "      <td>31435</td>\n",
       "      <td>5087</td>\n",
       "      <td>8130</td>\n",
       "    </tr>\n",
       "    <tr>\n",
       "      <th>2</th>\n",
       "      <td>3603703</td>\n",
       "      <td>79500US3603703</td>\n",
       "      <td>NYC-Bronx Community District 10--Co-op City, N...</td>\n",
       "      <td>47050</td>\n",
       "      <td>32729</td>\n",
       "      <td>158</td>\n",
       "      <td>1863</td>\n",
       "      <td>398</td>\n",
       "      <td>1465</td>\n",
       "      <td>20044</td>\n",
       "      <td>...</td>\n",
       "      <td>639</td>\n",
       "      <td>2882</td>\n",
       "      <td>11439</td>\n",
       "      <td>69.56</td>\n",
       "      <td>47050</td>\n",
       "      <td>38700</td>\n",
       "      <td>158</td>\n",
       "      <td>32333</td>\n",
       "      <td>6209</td>\n",
       "      <td>8350</td>\n",
       "    </tr>\n",
       "    <tr>\n",
       "      <th>3</th>\n",
       "      <td>3603704</td>\n",
       "      <td>79500US3603704</td>\n",
       "      <td>NYC-Bronx Community District 11--Pelham Parkwa...</td>\n",
       "      <td>44922</td>\n",
       "      <td>32003</td>\n",
       "      <td>141</td>\n",
       "      <td>1478</td>\n",
       "      <td>474</td>\n",
       "      <td>1004</td>\n",
       "      <td>17917</td>\n",
       "      <td>...</td>\n",
       "      <td>1001</td>\n",
       "      <td>2722</td>\n",
       "      <td>10197</td>\n",
       "      <td>71.24</td>\n",
       "      <td>44922</td>\n",
       "      <td>37237</td>\n",
       "      <td>122</td>\n",
       "      <td>31278</td>\n",
       "      <td>5837</td>\n",
       "      <td>7685</td>\n",
       "    </tr>\n",
       "    <tr>\n",
       "      <th>4</th>\n",
       "      <td>3603705</td>\n",
       "      <td>79500US3603705</td>\n",
       "      <td>NYC-Bronx Community District 3 &amp; 6--Belmont, N...</td>\n",
       "      <td>57556</td>\n",
       "      <td>35503</td>\n",
       "      <td>88</td>\n",
       "      <td>1297</td>\n",
       "      <td>651</td>\n",
       "      <td>646</td>\n",
       "      <td>15847</td>\n",
       "      <td>...</td>\n",
       "      <td>1385</td>\n",
       "      <td>3312</td>\n",
       "      <td>18741</td>\n",
       "      <td>61.68</td>\n",
       "      <td>57556</td>\n",
       "      <td>42576</td>\n",
       "      <td>88</td>\n",
       "      <td>33408</td>\n",
       "      <td>9080</td>\n",
       "      <td>14980</td>\n",
       "    </tr>\n",
       "  </tbody>\n",
       "</table>\n",
       "<p>5 rows × 31 columns</p>\n",
       "</div>"
      ],
      "text/plain": [
       "      FIPS Geographic Identifier  \\\n",
       "0  3603701        79500US3603701   \n",
       "1  3603702        79500US3603702   \n",
       "2  3603703        79500US3603703   \n",
       "3  3603704        79500US3603704   \n",
       "4  3603705        79500US3603705   \n",
       "\n",
       "                                     Qualifying Name  Households  \\\n",
       "0  NYC-Bronx Community District 8--Riverdale, New...       42035   \n",
       "1  NYC-Bronx Community District 12--Wakefield, Ne...       44830   \n",
       "2  NYC-Bronx Community District 10--Co-op City, N...       47050   \n",
       "3  NYC-Bronx Community District 11--Pelham Parkwa...       44922   \n",
       "4  NYC-Bronx Community District 3 & 6--Belmont, N...       57556   \n",
       "\n",
       "   Households: With An Internet Subscription  Households: Dial-Up Alone  \\\n",
       "0                                      31795                        444   \n",
       "1                                      32243                        178   \n",
       "2                                      32729                        158   \n",
       "3                                      32003                        141   \n",
       "4                                      35503                         88   \n",
       "\n",
       "   Households: Dsl  Households: With Mobile Broadband  \\\n",
       "0             2813                                946   \n",
       "1              849                                405   \n",
       "2             1863                                398   \n",
       "3             1478                                474   \n",
       "4             1297                                651   \n",
       "\n",
       "   Households: Without Mobile Broadband  Households: Cable Modem  \\\n",
       "0                                  1867                    19178   \n",
       "1                                   444                    18653   \n",
       "2                                  1465                    20044   \n",
       "3                                  1004                    17917   \n",
       "4                                   646                    15847   \n",
       "\n",
       "            ...             Households: Mobile Broadband Alone or With Dialup  \\\n",
       "0           ...                                                          2168   \n",
       "1           ...                                                           928   \n",
       "2           ...                                                           639   \n",
       "3           ...                                                          1001   \n",
       "4           ...                                                          1385   \n",
       "\n",
       "   Households: Internet Access Without A Subscription  \\\n",
       "0                                               2119    \n",
       "1                                               1891    \n",
       "2                                               2882    \n",
       "3                                               2722    \n",
       "4                                               3312    \n",
       "\n",
       "   Households: No Internet Access  \\\n",
       "0                            8121   \n",
       "1                           10696   \n",
       "2                           11439   \n",
       "3                           10197   \n",
       "4                           18741   \n",
       "\n",
       "   % Households: With An Internet Subscription  Households.1  \\\n",
       "0                                        75.64         42035   \n",
       "1                                        71.92         44830   \n",
       "2                                        69.56         47050   \n",
       "3                                        71.24         44922   \n",
       "4                                        61.68         57556   \n",
       "\n",
       "   Households: Has A Computer  \\\n",
       "0                       35048   \n",
       "1                       36700   \n",
       "2                       38700   \n",
       "3                       37237   \n",
       "4                       42576   \n",
       "\n",
       "   Households: With Dial-Up Internet Subscription Alone  \\\n",
       "0                                                404      \n",
       "1                                                178      \n",
       "2                                                158      \n",
       "3                                                122      \n",
       "4                                                 88      \n",
       "\n",
       "   Households: With A Broadband Internet Subscription  \\\n",
       "0                                              30943    \n",
       "1                                              31435    \n",
       "2                                              32333    \n",
       "3                                              31278    \n",
       "4                                              33408    \n",
       "\n",
       "   Households: Without An Internet Subscription  Households: No Computer  \n",
       "0                                          3701                     6987  \n",
       "1                                          5087                     8130  \n",
       "2                                          6209                     8350  \n",
       "3                                          5837                     7685  \n",
       "4                                          9080                    14980  \n",
       "\n",
       "[5 rows x 31 columns]"
      ]
     },
     "execution_count": 1226,
     "metadata": {},
     "output_type": "execute_result"
    }
   ],
   "source": [
    "# Infrastructure by Community District\n",
    "df_infr = pd.read_csv(\"http://cosmo.nyu.edu/~fb55/PUI2016/data//ACS_Computer_Use_and_Internet_2014_1Year_Estimate.csv\")\n",
    "df_infr.head()"
   ]
  },
  {
   "cell_type": "code",
   "execution_count": 1227,
   "metadata": {
    "collapsed": false
   },
   "outputs": [],
   "source": [
    "# Check variables in file"
   ]
  },
  {
   "cell_type": "code",
   "execution_count": 1228,
   "metadata": {
    "collapsed": false
   },
   "outputs": [
    {
     "data": {
      "text/plain": [
       "Index(['FIPS', 'Geographic Identifier', 'Qualifying Name', 'Households',\n",
       "       'Households: With An Internet Subscription',\n",
       "       'Households: Dial-Up Alone', 'Households: Dsl',\n",
       "       'Households: With Mobile Broadband',\n",
       "       'Households: Without Mobile Broadband', 'Households: Cable Modem',\n",
       "       'Households: With Mobile Broadband.1',\n",
       "       'Households: Without Mobile Broadband.1', 'Households: Fiber-Optic',\n",
       "       'Households: With Mobile Broadband.2',\n",
       "       'Households: Without Mobile Broadband.2',\n",
       "       'Households: Satellite Internet Service',\n",
       "       'Households: With Mobile Broadband.3',\n",
       "       'Households: Without Mobile Broadband.3',\n",
       "       'Households: Two or More Fixed Broadband Types, or Other',\n",
       "       'Households: With Mobile Broadband.4',\n",
       "       'Households: Without Mobile Broadband.4',\n",
       "       'Households: Mobile Broadband Alone or With Dialup',\n",
       "       'Households: Internet Access Without A Subscription',\n",
       "       'Households: No Internet Access',\n",
       "       '% Households: With An Internet Subscription', 'Households.1',\n",
       "       'Households: Has A Computer',\n",
       "       'Households: With Dial-Up Internet Subscription Alone',\n",
       "       'Households: With A Broadband Internet Subscription',\n",
       "       'Households: Without An Internet Subscription',\n",
       "       'Households: No Computer'],\n",
       "      dtype='object')"
      ]
     },
     "execution_count": 1228,
     "metadata": {},
     "output_type": "execute_result"
    }
   ],
   "source": [
    "df_infr.columns"
   ]
  },
  {
   "cell_type": "code",
   "execution_count": 1229,
   "metadata": {
    "collapsed": true
   },
   "outputs": [],
   "source": [
    "# How many community districts are in file? "
   ]
  },
  {
   "cell_type": "code",
   "execution_count": 1230,
   "metadata": {
    "collapsed": false
   },
   "outputs": [
    {
     "data": {
      "text/plain": [
       "55"
      ]
     },
     "execution_count": 1230,
     "metadata": {},
     "output_type": "execute_result"
    }
   ],
   "source": [
    "len(df_infr['Qualifying Name'].unique())"
   ]
  },
  {
   "cell_type": "code",
   "execution_count": 1231,
   "metadata": {
    "collapsed": true
   },
   "outputs": [],
   "source": [
    "# Manipulate data to get some information on internet/broadband useage by Community District\n",
    "# Aggregate the mobile subscription data"
   ]
  },
  {
   "cell_type": "code",
   "execution_count": 1232,
   "metadata": {
    "collapsed": true
   },
   "outputs": [],
   "source": [
    "# Aggregate internet type by high and low connections"
   ]
  },
  {
   "cell_type": "code",
   "execution_count": 1233,
   "metadata": {
    "collapsed": true
   },
   "outputs": [],
   "source": [
    "# Save data frame "
   ]
  },
  {
   "cell_type": "code",
   "execution_count": 1234,
   "metadata": {
    "collapsed": false
   },
   "outputs": [
    {
     "name": "stderr",
     "output_type": "stream",
     "text": [
      "/opt/rh/anaconda/root/envs/PUI2016_Python3/lib/python3.5/site-packages/ipykernel/__main__.py:6: SettingWithCopyWarning: \n",
      "A value is trying to be set on a copy of a slice from a DataFrame.\n",
      "Try using .loc[row_indexer,col_indexer] = value instead\n",
      "\n",
      "See the caveats in the documentation: http://pandas.pydata.org/pandas-docs/stable/indexing.html#indexing-view-versus-copy\n",
      "/opt/rh/anaconda/root/envs/PUI2016_Python3/lib/python3.5/site-packages/ipykernel/__main__.py:7: SettingWithCopyWarning: \n",
      "A value is trying to be set on a copy of a slice from a DataFrame\n",
      "\n",
      "See the caveats in the documentation: http://pandas.pydata.org/pandas-docs/stable/indexing.html#indexing-view-versus-copy\n"
     ]
    },
    {
     "data": {
      "text/html": [
       "<div>\n",
       "<table border=\"1\" class=\"dataframe\">\n",
       "  <thead>\n",
       "    <tr style=\"text-align: right;\">\n",
       "      <th></th>\n",
       "      <th>Community Name</th>\n",
       "      <th>low_internet_conection</th>\n",
       "      <th>high_internet_connection</th>\n",
       "      <th>no_connection</th>\n",
       "    </tr>\n",
       "  </thead>\n",
       "  <tbody>\n",
       "    <tr>\n",
       "      <th>0</th>\n",
       "      <td>NYC-Bronx Community District 8--Riverdale, New...</td>\n",
       "      <td>404</td>\n",
       "      <td>30943</td>\n",
       "      <td>10688</td>\n",
       "    </tr>\n",
       "    <tr>\n",
       "      <th>1</th>\n",
       "      <td>NYC-Bronx Community District 12--Wakefield, Ne...</td>\n",
       "      <td>178</td>\n",
       "      <td>31435</td>\n",
       "      <td>13217</td>\n",
       "    </tr>\n",
       "    <tr>\n",
       "      <th>2</th>\n",
       "      <td>NYC-Bronx Community District 10--Co-op City, N...</td>\n",
       "      <td>158</td>\n",
       "      <td>32333</td>\n",
       "      <td>14559</td>\n",
       "    </tr>\n",
       "    <tr>\n",
       "      <th>3</th>\n",
       "      <td>NYC-Bronx Community District 11--Pelham Parkwa...</td>\n",
       "      <td>122</td>\n",
       "      <td>31278</td>\n",
       "      <td>13522</td>\n",
       "    </tr>\n",
       "    <tr>\n",
       "      <th>4</th>\n",
       "      <td>NYC-Bronx Community District 3 &amp; 6--Belmont, N...</td>\n",
       "      <td>88</td>\n",
       "      <td>33408</td>\n",
       "      <td>24060</td>\n",
       "    </tr>\n",
       "    <tr>\n",
       "      <th>5</th>\n",
       "      <td>NYC-Bronx Community District 3 &amp; 6--Belmont, N...</td>\n",
       "      <td>88</td>\n",
       "      <td>33408</td>\n",
       "      <td>24060</td>\n",
       "    </tr>\n",
       "    <tr>\n",
       "      <th>6</th>\n",
       "      <td>NYC-Bronx Community District 7--Bedford Park, ...</td>\n",
       "      <td>0</td>\n",
       "      <td>31021</td>\n",
       "      <td>16231</td>\n",
       "    </tr>\n",
       "    <tr>\n",
       "      <th>7</th>\n",
       "      <td>NYC-Bronx Community District 5--Morris Heights...</td>\n",
       "      <td>54</td>\n",
       "      <td>25772</td>\n",
       "      <td>18873</td>\n",
       "    </tr>\n",
       "    <tr>\n",
       "      <th>8</th>\n",
       "      <td>NYC-Bronx Community District 4--Concourse, New...</td>\n",
       "      <td>316</td>\n",
       "      <td>27971</td>\n",
       "      <td>19648</td>\n",
       "    </tr>\n",
       "    <tr>\n",
       "      <th>9</th>\n",
       "      <td>NYC-Bronx Community District 9--Castle Hill, N...</td>\n",
       "      <td>180</td>\n",
       "      <td>45261</td>\n",
       "      <td>18570</td>\n",
       "    </tr>\n",
       "  </tbody>\n",
       "</table>\n",
       "</div>"
      ],
      "text/plain": [
       "                                      Community Name  low_internet_conection  \\\n",
       "0  NYC-Bronx Community District 8--Riverdale, New...                     404   \n",
       "1  NYC-Bronx Community District 12--Wakefield, Ne...                     178   \n",
       "2  NYC-Bronx Community District 10--Co-op City, N...                     158   \n",
       "3  NYC-Bronx Community District 11--Pelham Parkwa...                     122   \n",
       "4  NYC-Bronx Community District 3 & 6--Belmont, N...                      88   \n",
       "5  NYC-Bronx Community District 3 & 6--Belmont, N...                      88   \n",
       "6  NYC-Bronx Community District 7--Bedford Park, ...                       0   \n",
       "7  NYC-Bronx Community District 5--Morris Heights...                      54   \n",
       "8  NYC-Bronx Community District 4--Concourse, New...                     316   \n",
       "9  NYC-Bronx Community District 9--Castle Hill, N...                     180   \n",
       "\n",
       "   high_internet_connection  no_connection  \n",
       "0                     30943          10688  \n",
       "1                     31435          13217  \n",
       "2                     32333          14559  \n",
       "3                     31278          13522  \n",
       "4                     33408          24060  \n",
       "5                     33408          24060  \n",
       "6                     31021          16231  \n",
       "7                     25772          18873  \n",
       "8                     27971          19648  \n",
       "9                     45261          18570  "
      ]
     },
     "execution_count": 1234,
     "metadata": {},
     "output_type": "execute_result"
    }
   ],
   "source": [
    "community_internet = df_infr[['Qualifying Name', 'Households: With Dial-Up Internet Subscription Alone', \n",
    "                              'Households: With A Broadband Internet Subscription', \n",
    "                              'Households: Without An Internet Subscription', 'Households: No Computer']]\n",
    "community_internet.columns = ['Community Name', 'low_internet_conection', 'high_internet_connection',\n",
    "                              'no_internet', 'no_computer']\n",
    "community_internet['no_connection'] = community_internet['no_internet'] + community_internet['no_computer']\n",
    "community_internet.drop(['no_internet', 'no_computer'], axis=1, inplace=True)\n",
    "community_internet.head(10)"
   ]
  },
  {
   "cell_type": "markdown",
   "metadata": {},
   "source": [
    "# 5. Inform your results by linking datasets\n",
    "Now you want to link the three data frames to produce summary statistics for Community Districts which show a high number of complaints vs. Community Districts which show a lower number of complaints. Please keep in mind that the identifiers used for the linkage (Community Dostrict IDs) should be recored the same way. Use regular expressions to harmonize the identifiers if possible. The identifiers should look like BK01, BK02, etc.\n",
    "https://docs.python.org/2/library/re.html"
   ]
  },
  {
   "cell_type": "code",
   "execution_count": 1235,
   "metadata": {
    "collapsed": false
   },
   "outputs": [],
   "source": [
    "# Harmonize identifier of dataframe 1"
   ]
  },
  {
   "cell_type": "code",
   "execution_count": 1236,
   "metadata": {
    "collapsed": false
   },
   "outputs": [
    {
     "data": {
      "text/plain": [
       "array(['01 BRONX', '01 BROOKLYN', '01 MANHATTAN', '01 QUEENS',\n",
       "       '01 STATEN ISLAND', '02 BRONX', '02 BROOKLYN', '02 MANHATTAN',\n",
       "       '02 QUEENS', '02 STATEN ISLAND', '03 BRONX', '03 BROOKLYN',\n",
       "       '03 MANHATTAN', '03 QUEENS', '03 STATEN ISLAND', '04 BRONX',\n",
       "       '04 BROOKLYN', '04 MANHATTAN', '04 QUEENS', '05 BRONX',\n",
       "       '05 BROOKLYN', '05 MANHATTAN', '05 QUEENS', '06 BRONX',\n",
       "       '06 BROOKLYN', '06 MANHATTAN', '06 QUEENS', '07 BRONX',\n",
       "       '07 BROOKLYN', '07 MANHATTAN', '07 QUEENS', '08 BRONX',\n",
       "       '08 BROOKLYN', '08 MANHATTAN', '08 QUEENS', '09 BRONX',\n",
       "       '09 BROOKLYN', '09 MANHATTAN', '09 QUEENS', '10 BRONX',\n",
       "       '10 BROOKLYN', '10 MANHATTAN', '10 QUEENS', '11 BRONX',\n",
       "       '11 BROOKLYN', '11 MANHATTAN', '11 QUEENS', '12 BRONX',\n",
       "       '12 BROOKLYN', '12 MANHATTAN', '12 QUEENS', '13 BROOKLYN',\n",
       "       '13 QUEENS', '14 BROOKLYN', '14 QUEENS', '15 BROOKLYN',\n",
       "       '16 BROOKLYN', '17 BROOKLYN', '18 BROOKLYN'], dtype=object)"
      ]
     },
     "execution_count": 1236,
     "metadata": {},
     "output_type": "execute_result"
    }
   ],
   "source": [
    "community_complaints['Community Board'].unique()"
   ]
  },
  {
   "cell_type": "code",
   "execution_count": 1237,
   "metadata": {
    "collapsed": false
   },
   "outputs": [
    {
     "data": {
      "text/html": [
       "<div>\n",
       "<table border=\"1\" class=\"dataframe\">\n",
       "  <thead>\n",
       "    <tr style=\"text-align: right;\">\n",
       "      <th></th>\n",
       "      <th>num_complaints</th>\n",
       "      <th>cd_id</th>\n",
       "    </tr>\n",
       "  </thead>\n",
       "  <tbody>\n",
       "    <tr>\n",
       "      <th>0</th>\n",
       "      <td>82</td>\n",
       "      <td>BX01</td>\n",
       "    </tr>\n",
       "    <tr>\n",
       "      <th>1</th>\n",
       "      <td>204</td>\n",
       "      <td>BK01</td>\n",
       "    </tr>\n",
       "    <tr>\n",
       "      <th>2</th>\n",
       "      <td>101</td>\n",
       "      <td>MN01</td>\n",
       "    </tr>\n",
       "    <tr>\n",
       "      <th>3</th>\n",
       "      <td>190</td>\n",
       "      <td>QN01</td>\n",
       "    </tr>\n",
       "    <tr>\n",
       "      <th>4</th>\n",
       "      <td>203</td>\n",
       "      <td>SI01</td>\n",
       "    </tr>\n",
       "  </tbody>\n",
       "</table>\n",
       "</div>"
      ],
      "text/plain": [
       "   num_complaints cd_id\n",
       "0              82  BX01\n",
       "1             204  BK01\n",
       "2             101  MN01\n",
       "3             190  QN01\n",
       "4             203  SI01"
      ]
     },
     "execution_count": 1237,
     "metadata": {},
     "output_type": "execute_result"
    }
   ],
   "source": [
    "community_complaints['cd_num'] = community_complaints['Community Board'].str[:2]\n",
    "community_complaints['cd_boro'] = community_complaints['Community Board'].str[3:]\n",
    "cd_id = {'BRONX': 'BX', 'BROOKLYN': 'BK', 'MANHATTAN': 'MN', 'QUEENS': 'QN', 'STATEN ISLAND': 'SI'}\n",
    "community_complaints.replace({'cd_boro': cd_id}, inplace=True)\n",
    "community_complaints['cd_id'] = community_complaints.cd_boro + community_complaints.cd_num\n",
    "community_complaints.drop(['Community Board', 'cd_num', 'cd_boro'], axis=1, inplace=True)\n",
    "community_complaints.columns = ['num_complaints', 'cd_id']\n",
    "community_complaints.head()"
   ]
  },
  {
   "cell_type": "code",
   "execution_count": 1238,
   "metadata": {
    "collapsed": false
   },
   "outputs": [
    {
     "data": {
      "text/plain": [
       "array(['BX01', 'BK01', 'MN01', 'QN01', 'SI01', 'BX02', 'BK02', 'MN02',\n",
       "       'QN02', 'SI02', 'BX03', 'BK03', 'MN03', 'QN03', 'SI03', 'BX04',\n",
       "       'BK04', 'MN04', 'QN04', 'BX05', 'BK05', 'MN05', 'QN05', 'BX06',\n",
       "       'BK06', 'MN06', 'QN06', 'BX07', 'BK07', 'MN07', 'QN07', 'BX08',\n",
       "       'BK08', 'MN08', 'QN08', 'BX09', 'BK09', 'MN09', 'QN09', 'BX10',\n",
       "       'BK10', 'MN10', 'QN10', 'BX11', 'BK11', 'MN11', 'QN11', 'BX12',\n",
       "       'BK12', 'MN12', 'QN12', 'BK13', 'QN13', 'BK14', 'QN14', 'BK15',\n",
       "       'BK16', 'BK17', 'BK18'], dtype=object)"
      ]
     },
     "execution_count": 1238,
     "metadata": {},
     "output_type": "execute_result"
    }
   ],
   "source": [
    "community_complaints['cd_id'].unique()"
   ]
  },
  {
   "cell_type": "code",
   "execution_count": 1239,
   "metadata": {
    "collapsed": false
   },
   "outputs": [],
   "source": [
    "# Harmonize identifier of dataframe 2"
   ]
  },
  {
   "cell_type": "code",
   "execution_count": 1240,
   "metadata": {
    "collapsed": false
   },
   "outputs": [
    {
     "data": {
      "text/plain": [
       "array(['BX08', 'BX12', 'BX10', 'BX11', 'BX03', 'BX06', 'BX07', 'BX05',\n",
       "       'BX04', 'BX09', 'BX01', 'BX02', 'MN12', 'MN09', 'MN10', 'MN11111',\n",
       "       'MN08', 'MN07', 'MN05', 'MN04', 'MN06', 'MN03', 'MN01', 'MN02',\n",
       "       'SI03', 'SI02', 'SI01', 'BK01', 'BK04', 'BK03', 'BK02', 'BK06',\n",
       "       'BK08', 'BK16', 'BK05', 'BK18', 'BK17', 'BK09', 'BK07', 'BK10',\n",
       "       'BK12', 'BK14', 'BK15', 'BK11', 'BK13', 'QN01', 'QN03', 'QN07',\n",
       "       'QN11', 'QN13', 'QN08', 'QN04', 'QN06', 'QN02', 'QN05', 'QN09',\n",
       "       'QN12', 'QN10', 'QN14'], dtype=object)"
      ]
     },
     "execution_count": 1240,
     "metadata": {},
     "output_type": "execute_result"
    }
   ],
   "source": [
    "community_demo['cd_id'].unique()"
   ]
  },
  {
   "cell_type": "code",
   "execution_count": 1241,
   "metadata": {
    "collapsed": false
   },
   "outputs": [
    {
     "data": {
      "text/html": [
       "<div>\n",
       "<table border=\"1\" class=\"dataframe\">\n",
       "  <thead>\n",
       "    <tr style=\"text-align: right;\">\n",
       "      <th></th>\n",
       "      <th>cd_id</th>\n",
       "      <th>median_house_income</th>\n",
       "    </tr>\n",
       "  </thead>\n",
       "  <tbody>\n",
       "    <tr>\n",
       "      <th>0</th>\n",
       "      <td>BX08</td>\n",
       "      <td>54224</td>\n",
       "    </tr>\n",
       "    <tr>\n",
       "      <th>1</th>\n",
       "      <td>BX12</td>\n",
       "      <td>44906</td>\n",
       "    </tr>\n",
       "    <tr>\n",
       "      <th>2</th>\n",
       "      <td>BX10</td>\n",
       "      <td>54962</td>\n",
       "    </tr>\n",
       "    <tr>\n",
       "      <th>3</th>\n",
       "      <td>BX11</td>\n",
       "      <td>47910</td>\n",
       "    </tr>\n",
       "    <tr>\n",
       "      <th>4</th>\n",
       "      <td>BX03</td>\n",
       "      <td>22041</td>\n",
       "    </tr>\n",
       "  </tbody>\n",
       "</table>\n",
       "</div>"
      ],
      "text/plain": [
       "  cd_id  median_house_income\n",
       "0  BX08                54224\n",
       "1  BX12                44906\n",
       "2  BX10                54962\n",
       "3  BX11                47910\n",
       "4  BX03                22041"
      ]
     },
     "execution_count": 1241,
     "metadata": {},
     "output_type": "execute_result"
    }
   ],
   "source": [
    "community_demo.head()"
   ]
  },
  {
   "cell_type": "code",
   "execution_count": 1242,
   "metadata": {
    "collapsed": false
   },
   "outputs": [
    {
     "name": "stderr",
     "output_type": "stream",
     "text": [
      "/opt/rh/anaconda/root/envs/PUI2016_Python3/lib/python3.5/site-packages/ipykernel/__main__.py:1: SettingWithCopyWarning: \n",
      "A value is trying to be set on a copy of a slice from a DataFrame\n",
      "\n",
      "See the caveats in the documentation: http://pandas.pydata.org/pandas-docs/stable/indexing.html#indexing-view-versus-copy\n",
      "  if __name__ == '__main__':\n"
     ]
    },
    {
     "data": {
      "text/plain": [
       "array(['BX08', 'BX12', 'BX10', 'BX11', 'BX03', 'BX06', 'BX07', 'BX05',\n",
       "       'BX04', 'BX09', 'BX01', 'BX02', 'MN12', 'MN09', 'MN10', 'MN11',\n",
       "       'MN08', 'MN07', 'MN05', 'MN04', 'MN06', 'MN03', 'MN01', 'MN02',\n",
       "       'SI03', 'SI02', 'SI01', 'BK01', 'BK04', 'BK03', 'BK02', 'BK06',\n",
       "       'BK08', 'BK16', 'BK05', 'BK18', 'BK17', 'BK09', 'BK07', 'BK10',\n",
       "       'BK12', 'BK14', 'BK15', 'BK11', 'BK13', 'QN01', 'QN03', 'QN07',\n",
       "       'QN11', 'QN13', 'QN08', 'QN04', 'QN06', 'QN02', 'QN05', 'QN09',\n",
       "       'QN12', 'QN10', 'QN14'], dtype=object)"
      ]
     },
     "execution_count": 1242,
     "metadata": {},
     "output_type": "execute_result"
    }
   ],
   "source": [
    "community_demo.replace('MN11111', 'MN11', inplace=True)\n",
    "community_demo['cd_id'].unique()"
   ]
  },
  {
   "cell_type": "code",
   "execution_count": 1243,
   "metadata": {
    "collapsed": true
   },
   "outputs": [],
   "source": [
    "# Harmonize identifier of dataframe 3"
   ]
  },
  {
   "cell_type": "code",
   "execution_count": 1244,
   "metadata": {
    "collapsed": false
   },
   "outputs": [
    {
     "name": "stderr",
     "output_type": "stream",
     "text": [
      "/opt/rh/anaconda/root/envs/PUI2016_Python3/lib/python3.5/site-packages/pandas/util/decorators.py:91: SettingWithCopyWarning: \n",
      "A value is trying to be set on a copy of a slice from a DataFrame\n",
      "\n",
      "See the caveats in the documentation: http://pandas.pydata.org/pandas-docs/stable/indexing.html#indexing-view-versus-copy\n",
      "  return func(*args, **kwargs)\n"
     ]
    },
    {
     "data": {
      "text/plain": [
       "array(['NYC-Bronx Community District 8--Riverdale, New York',\n",
       "       'NYC-Bronx Community District 12--Wakefield, New York',\n",
       "       'NYC-Bronx Community District 10--Co-op City, New York',\n",
       "       'NYC-Bronx Community District 11--Pelham Parkway, New York',\n",
       "       'NYC-Bronx Community District 3 & 6--Belmont, New York',\n",
       "       'NYC-Bronx Community District 7--Bedford Park, New York',\n",
       "       'NYC-Bronx Community District 5--Morris Heights, New York',\n",
       "       'NYC-Bronx Community District 4--Concourse, New York',\n",
       "       'NYC-Bronx Community District 9--Castle Hill, New York',\n",
       "       'NYC-Bronx Community District 1 & 2--Hunts Point, New York',\n",
       "       'NYC-Manhattan Community District 12--Washington Heights, New York',\n",
       "       'NYC-Manhattan Community District 9--Hamilton Heights, New York',\n",
       "       'NYC-Manhattan Community District 10--Central Harlem PUMA, New York',\n",
       "       'NYC-Manhattan Community District 11--East Harlem PUMA, New York',\n",
       "       'NYC-Manhattan Community District 8--Upper East Side PUMA, New York',\n",
       "       'NYC-Manhattan Community District 7--Upper West Side & West Side PUMA, New York',\n",
       "       'NYC-Manhattan Community District 4 & 5--Chelsea, New York',\n",
       "       'NYC-Manhattan Community District 6--Murray Hill, New York',\n",
       "       'NYC-Manhattan Community District 3--Chinatown & Lower East Side PUMA, New York',\n",
       "       'NYC-Manhattan Community District 1 & 2--Battery Park City, New York',\n",
       "       'NYC-Staten Island Community District 3--Tottenville, New York',\n",
       "       'NYC-Staten Island Community District 2--New Springville & South Beach PUMA, New York',\n",
       "       'NYC-Staten Island Community District 1--Port Richmond, New York',\n",
       "       'NYC-Brooklyn Community District 1--Greenpoint & Williamsburg PUMA, New York',\n",
       "       'NYC-Brooklyn Community District 4--Bushwick PUMA, New York',\n",
       "       'NYC-Brooklyn Community District 3--Bedford-Stuyvesant PUMA, New York',\n",
       "       'NYC-Brooklyn Community District 2--Brooklyn Heights & Fort Greene PUMA, New York',\n",
       "       'NYC-Brooklyn Community District 6--Park Slope, New York',\n",
       "       'NYC-Brooklyn Community District 8--Crown Heights North & Prospect Heights PUMA, New York',\n",
       "       'NYC-Brooklyn Community District 16--Brownsville & Ocean Hill PUMA, New York',\n",
       "       'NYC-Brooklyn Community District 5--East New York & Starrett City PUMA, New York',\n",
       "       'NYC-Brooklyn Community District 18--Canarsie & Flatlands PUMA, New York',\n",
       "       'NYC-Brooklyn Community District 17--East Flatbush, New York',\n",
       "       'NYC-Brooklyn Community District 9--Crown Heights South, New York',\n",
       "       'NYC-Brooklyn Community District 7--Sunset Park & Windsor Terrace PUMA, New York',\n",
       "       'NYC-Brooklyn Community District 10--Bay Ridge & Dyker Heights PUMA, New York',\n",
       "       'NYC-Brooklyn Community District 12--Borough Park, New York',\n",
       "       'NYC-Brooklyn Community District 14--Flatbush & Midwood PUMA, New York',\n",
       "       'NYC-Brooklyn Community District 15--Sheepshead Bay, New York',\n",
       "       'NYC-Brooklyn Community District 11--Bensonhurst & Bath Beach PUMA, New York',\n",
       "       'NYC-Brooklyn Community District 13--Brighton Beach & Coney Island PUMA, New York',\n",
       "       'NYC-Queens Community District 1--Astoria & Long Island City PUMA, New York',\n",
       "       'NYC-Queens Community District 3--Jackson Heights & North Corona PUMA, New York',\n",
       "       'NYC-Queens Community District 7--Flushing, New York',\n",
       "       'NYC-Queens Community District 11--Bayside, New York',\n",
       "       'NYC-Queens Community District 13--Queens Village, New York',\n",
       "       'NYC-Queens Community District 8--Briarwood, New York',\n",
       "       'NYC-Queens Community District 4--Elmhurst & South Corona PUMA, New York',\n",
       "       'NYC-Queens Community District 6--Forest Hills & Rego Park PUMA, New York',\n",
       "       'NYC-Queens Community District 2--Sunnyside & Woodside PUMA, New York',\n",
       "       'NYC-Queens Community District 5--Ridgewood, New York',\n",
       "       'NYC-Queens Community District 9--Richmond Hill & Woodhaven PUMA, New York',\n",
       "       'NYC-Queens Community District 12--Jamaica, New York',\n",
       "       'NYC-Queens Community District 10--Howard Beach & Ozone Park PUMA, New York',\n",
       "       'NYC-Queens Community District 14--Far Rockaway, New York'], dtype=object)"
      ]
     },
     "execution_count": 1244,
     "metadata": {},
     "output_type": "execute_result"
    }
   ],
   "source": [
    "community_internet.drop_duplicates(inplace=True)\n",
    "community_internet['Community Name'].values"
   ]
  },
  {
   "cell_type": "code",
   "execution_count": 1245,
   "metadata": {
    "collapsed": false
   },
   "outputs": [
    {
     "name": "stderr",
     "output_type": "stream",
     "text": [
      "/opt/rh/anaconda/root/envs/PUI2016_Python3/lib/python3.5/site-packages/ipykernel/__main__.py:3: SettingWithCopyWarning: \n",
      "A value is trying to be set on a copy of a slice from a DataFrame.\n",
      "Try using .loc[row_indexer,col_indexer] = value instead\n",
      "\n",
      "See the caveats in the documentation: http://pandas.pydata.org/pandas-docs/stable/indexing.html#indexing-view-versus-copy\n",
      "  app.launch_new_instance()\n",
      "/opt/rh/anaconda/root/envs/PUI2016_Python3/lib/python3.5/site-packages/ipykernel/__main__.py:5: SettingWithCopyWarning: \n",
      "A value is trying to be set on a copy of a slice from a DataFrame.\n",
      "Try using .loc[row_indexer,col_indexer] = value instead\n",
      "\n",
      "See the caveats in the documentation: http://pandas.pydata.org/pandas-docs/stable/indexing.html#indexing-view-versus-copy\n",
      "/opt/rh/anaconda/root/envs/PUI2016_Python3/lib/python3.5/site-packages/ipykernel/__main__.py:7: SettingWithCopyWarning: \n",
      "A value is trying to be set on a copy of a slice from a DataFrame.\n",
      "Try using .loc[row_indexer,col_indexer] = value instead\n",
      "\n",
      "See the caveats in the documentation: http://pandas.pydata.org/pandas-docs/stable/indexing.html#indexing-view-versus-copy\n",
      "/opt/rh/anaconda/root/envs/PUI2016_Python3/lib/python3.5/site-packages/pandas/core/generic.py:3378: SettingWithCopyWarning: \n",
      "A value is trying to be set on a copy of a slice from a DataFrame.\n",
      "Try using .loc[row_indexer,col_indexer] = value instead\n",
      "\n",
      "See the caveats in the documentation: http://pandas.pydata.org/pandas-docs/stable/indexing.html#indexing-view-versus-copy\n",
      "  inplace=False, regex=regex)\n",
      "/opt/rh/anaconda/root/envs/PUI2016_Python3/lib/python3.5/site-packages/ipykernel/__main__.py:9: SettingWithCopyWarning: \n",
      "A value is trying to be set on a copy of a slice from a DataFrame.\n",
      "Try using .loc[row_indexer,col_indexer] = value instead\n",
      "\n",
      "See the caveats in the documentation: http://pandas.pydata.org/pandas-docs/stable/indexing.html#indexing-view-versus-copy\n",
      "/opt/rh/anaconda/root/envs/PUI2016_Python3/lib/python3.5/site-packages/ipykernel/__main__.py:10: SettingWithCopyWarning: \n",
      "A value is trying to be set on a copy of a slice from a DataFrame\n",
      "\n",
      "See the caveats in the documentation: http://pandas.pydata.org/pandas-docs/stable/indexing.html#indexing-view-versus-copy\n"
     ]
    },
    {
     "data": {
      "text/html": [
       "<div>\n",
       "<table border=\"1\" class=\"dataframe\">\n",
       "  <thead>\n",
       "    <tr style=\"text-align: right;\">\n",
       "      <th></th>\n",
       "      <th>low_internet_conection</th>\n",
       "      <th>high_internet_connection</th>\n",
       "      <th>no_connection</th>\n",
       "      <th>cd_id</th>\n",
       "    </tr>\n",
       "  </thead>\n",
       "  <tbody>\n",
       "    <tr>\n",
       "      <th>0</th>\n",
       "      <td>404</td>\n",
       "      <td>30943</td>\n",
       "      <td>10688</td>\n",
       "      <td>BX08</td>\n",
       "    </tr>\n",
       "    <tr>\n",
       "      <th>1</th>\n",
       "      <td>178</td>\n",
       "      <td>31435</td>\n",
       "      <td>13217</td>\n",
       "      <td>BX12</td>\n",
       "    </tr>\n",
       "    <tr>\n",
       "      <th>2</th>\n",
       "      <td>158</td>\n",
       "      <td>32333</td>\n",
       "      <td>14559</td>\n",
       "      <td>BX10</td>\n",
       "    </tr>\n",
       "    <tr>\n",
       "      <th>3</th>\n",
       "      <td>122</td>\n",
       "      <td>31278</td>\n",
       "      <td>13522</td>\n",
       "      <td>BX11</td>\n",
       "    </tr>\n",
       "    <tr>\n",
       "      <th>4</th>\n",
       "      <td>88</td>\n",
       "      <td>33408</td>\n",
       "      <td>24060</td>\n",
       "      <td>BX03</td>\n",
       "    </tr>\n",
       "  </tbody>\n",
       "</table>\n",
       "</div>"
      ],
      "text/plain": [
       "   low_internet_conection  high_internet_connection  no_connection cd_id\n",
       "0                     404                     30943          10688  BX08\n",
       "1                     178                     31435          13217  BX12\n",
       "2                     158                     32333          14559  BX10\n",
       "3                     122                     31278          13522  BX11\n",
       "4                      88                     33408          24060  BX03"
      ]
     },
     "execution_count": 1245,
     "metadata": {},
     "output_type": "execute_result"
    }
   ],
   "source": [
    "cd_id1 = {'Bronx': 'BX', 'Brooklyn': 'BK', 'Manhattan': 'MN', 'Queens': 'QN', 'Staten': 'SI'}\n",
    "community_internet['cd_boro'] = community_internet['Community Name'].str.extract('(?<=^....)(?P<letter>[a-zA-Z]+)',\n",
    "                                                                                expand=True)\n",
    "community_internet['cd_num'] = community_internet['Community Name'].str.extract('([0-9]+)',\n",
    "                                                                                expand=True)\n",
    "\n",
    "community_internet['cd_num'] = community_internet['cd_num'].apply(lambda x: '{0:0>2}'.format(x))\n",
    "community_internet.replace({'cd_boro': cd_id1}, inplace=True)\n",
    "community_internet['cd_id'] = community_internet.cd_boro + community_internet.cd_num\n",
    "community_internet.drop(['Community Name', 'cd_num', 'cd_boro'], axis=1, inplace=True)\n",
    "community_internet.head()"
   ]
  },
  {
   "cell_type": "markdown",
   "metadata": {},
   "source": [
    "Because certain rows for internet connection data contain two community districts, I assumed that 50% of the counts were attributed to each of the two community districts."
   ]
  },
  {
   "cell_type": "code",
   "execution_count": 1246,
   "metadata": {
    "collapsed": false
   },
   "outputs": [],
   "source": [
    "\n",
    "for index, row in community_internet.iterrows():\n",
    "    if row['cd_id'] == 'BX03':\n",
    "        temp = pd.DataFrame([row])\n",
    "    elif row['cd_id'] == 'BX01':\n",
    "        temp = temp.append([row])\n",
    "    elif row['cd_id'] == 'MN01':\n",
    "        temp = temp.append([row])\n",
    "    elif row['cd_id'] == 'MN04':\n",
    "        temp = temp.append([row])\n",
    "new_rows = temp\n",
    "new_rows['low_internet_conection'] = (temp['low_internet_conection'].values)/2\n",
    "new_rows['high_internet_connection'] = (temp['high_internet_connection'].values)/2\n",
    "new_rows['no_connection'] = (temp['no_connection'].values)/2\n",
    "\n",
    "new_rows.replace('BX03', 'BX06', inplace=True)\n",
    "new_rows.replace('BX01', 'BX02', inplace=True)\n",
    "new_rows.replace('MN01', 'MN02', inplace=True)\n",
    "new_rows.replace('MN04', 'MN05', inplace=True)\n",
    "community_internet = community_internet.append(new_rows, ignore_index=True)"
   ]
  },
  {
   "cell_type": "code",
   "execution_count": 1247,
   "metadata": {
    "collapsed": false
   },
   "outputs": [
    {
     "data": {
      "text/html": [
       "<div>\n",
       "<table border=\"1\" class=\"dataframe\">\n",
       "  <thead>\n",
       "    <tr style=\"text-align: right;\">\n",
       "      <th></th>\n",
       "      <th>low_internet_conection</th>\n",
       "      <th>high_internet_connection</th>\n",
       "      <th>no_connection</th>\n",
       "      <th>cd_id</th>\n",
       "    </tr>\n",
       "  </thead>\n",
       "  <tbody>\n",
       "    <tr>\n",
       "      <th>4</th>\n",
       "      <td>44.0</td>\n",
       "      <td>16704.0</td>\n",
       "      <td>12030.0</td>\n",
       "      <td>BX06</td>\n",
       "    </tr>\n",
       "    <tr>\n",
       "      <th>10</th>\n",
       "      <td>0.0</td>\n",
       "      <td>15479.0</td>\n",
       "      <td>10616.5</td>\n",
       "      <td>BX02</td>\n",
       "    </tr>\n",
       "    <tr>\n",
       "      <th>18</th>\n",
       "      <td>26.5</td>\n",
       "      <td>34888.0</td>\n",
       "      <td>6466.5</td>\n",
       "      <td>MN05</td>\n",
       "    </tr>\n",
       "    <tr>\n",
       "      <th>22</th>\n",
       "      <td>66.0</td>\n",
       "      <td>37169.5</td>\n",
       "      <td>4752.5</td>\n",
       "      <td>MN02</td>\n",
       "    </tr>\n",
       "  </tbody>\n",
       "</table>\n",
       "</div>"
      ],
      "text/plain": [
       "    low_internet_conection  high_internet_connection  no_connection cd_id\n",
       "4                     44.0                   16704.0        12030.0  BX06\n",
       "10                     0.0                   15479.0        10616.5  BX02\n",
       "18                    26.5                   34888.0         6466.5  MN05\n",
       "22                    66.0                   37169.5         4752.5  MN02"
      ]
     },
     "execution_count": 1247,
     "metadata": {},
     "output_type": "execute_result"
    }
   ],
   "source": [
    "new_rows"
   ]
  },
  {
   "cell_type": "code",
   "execution_count": 1248,
   "metadata": {
    "collapsed": false
   },
   "outputs": [
    {
     "data": {
      "text/html": [
       "<div>\n",
       "<table border=\"1\" class=\"dataframe\">\n",
       "  <thead>\n",
       "    <tr style=\"text-align: right;\">\n",
       "      <th></th>\n",
       "      <th>low_internet_conection</th>\n",
       "      <th>high_internet_connection</th>\n",
       "      <th>no_connection</th>\n",
       "      <th>cd_id</th>\n",
       "    </tr>\n",
       "  </thead>\n",
       "  <tbody>\n",
       "    <tr>\n",
       "      <th>0</th>\n",
       "      <td>404.0</td>\n",
       "      <td>30943.0</td>\n",
       "      <td>10688.0</td>\n",
       "      <td>BX08</td>\n",
       "    </tr>\n",
       "    <tr>\n",
       "      <th>1</th>\n",
       "      <td>178.0</td>\n",
       "      <td>31435.0</td>\n",
       "      <td>13217.0</td>\n",
       "      <td>BX12</td>\n",
       "    </tr>\n",
       "    <tr>\n",
       "      <th>2</th>\n",
       "      <td>158.0</td>\n",
       "      <td>32333.0</td>\n",
       "      <td>14559.0</td>\n",
       "      <td>BX10</td>\n",
       "    </tr>\n",
       "    <tr>\n",
       "      <th>3</th>\n",
       "      <td>122.0</td>\n",
       "      <td>31278.0</td>\n",
       "      <td>13522.0</td>\n",
       "      <td>BX11</td>\n",
       "    </tr>\n",
       "    <tr>\n",
       "      <th>4</th>\n",
       "      <td>44.0</td>\n",
       "      <td>16704.0</td>\n",
       "      <td>12030.0</td>\n",
       "      <td>BX03</td>\n",
       "    </tr>\n",
       "  </tbody>\n",
       "</table>\n",
       "</div>"
      ],
      "text/plain": [
       "   low_internet_conection  high_internet_connection  no_connection cd_id\n",
       "0                   404.0                   30943.0        10688.0  BX08\n",
       "1                   178.0                   31435.0        13217.0  BX12\n",
       "2                   158.0                   32333.0        14559.0  BX10\n",
       "3                   122.0                   31278.0        13522.0  BX11\n",
       "4                    44.0                   16704.0        12030.0  BX03"
      ]
     },
     "execution_count": 1248,
     "metadata": {},
     "output_type": "execute_result"
    }
   ],
   "source": [
    "\n",
    "community_internet.loc[4,0:3] = community_internet.ix[4][0:3].values/2\n",
    "community_internet.head()"
   ]
  },
  {
   "cell_type": "code",
   "execution_count": 1249,
   "metadata": {
    "collapsed": false
   },
   "outputs": [
    {
     "data": {
      "text/plain": [
       "array(['BX08', 'BX12', 'BX10', 'BX11', 'BX03', 'BX07', 'BX05', 'BX04',\n",
       "       'BX09', 'BX01', 'MN12', 'MN09', 'MN10', 'MN11', 'MN08', 'MN07',\n",
       "       'MN04', 'MN06', 'MN03', 'MN01', 'SI03', 'SI02', 'SI01', 'BK01',\n",
       "       'BK04', 'BK03', 'BK02', 'BK06', 'BK08', 'BK16', 'BK05', 'BK18',\n",
       "       'BK17', 'BK09', 'BK07', 'BK10', 'BK12', 'BK14', 'BK15', 'BK11',\n",
       "       'BK13', 'QN01', 'QN03', 'QN07', 'QN11', 'QN13', 'QN08', 'QN04',\n",
       "       'QN06', 'QN02', 'QN05', 'QN09', 'QN12', 'QN10', 'QN14', 'BX06',\n",
       "       'BX02', 'MN05', 'MN02'], dtype=object)"
      ]
     },
     "execution_count": 1249,
     "metadata": {},
     "output_type": "execute_result"
    }
   ],
   "source": [
    "community_internet['cd_id'].unique()"
   ]
  },
  {
   "cell_type": "code",
   "execution_count": 1250,
   "metadata": {
    "collapsed": false
   },
   "outputs": [],
   "source": [
    "# Link the 3 dataframes"
   ]
  },
  {
   "cell_type": "code",
   "execution_count": 1251,
   "metadata": {
    "collapsed": false
   },
   "outputs": [
    {
     "data": {
      "text/html": [
       "<div>\n",
       "<table border=\"1\" class=\"dataframe\">\n",
       "  <thead>\n",
       "    <tr style=\"text-align: right;\">\n",
       "      <th></th>\n",
       "      <th>cd_id</th>\n",
       "      <th>median_house_income</th>\n",
       "      <th>num_complaints</th>\n",
       "    </tr>\n",
       "  </thead>\n",
       "  <tbody>\n",
       "    <tr>\n",
       "      <th>0</th>\n",
       "      <td>BX08</td>\n",
       "      <td>54224</td>\n",
       "      <td>105</td>\n",
       "    </tr>\n",
       "    <tr>\n",
       "      <th>1</th>\n",
       "      <td>BX12</td>\n",
       "      <td>44906</td>\n",
       "      <td>156</td>\n",
       "    </tr>\n",
       "    <tr>\n",
       "      <th>2</th>\n",
       "      <td>BX10</td>\n",
       "      <td>54962</td>\n",
       "      <td>91</td>\n",
       "    </tr>\n",
       "    <tr>\n",
       "      <th>3</th>\n",
       "      <td>BX11</td>\n",
       "      <td>47910</td>\n",
       "      <td>86</td>\n",
       "    </tr>\n",
       "    <tr>\n",
       "      <th>4</th>\n",
       "      <td>BX03</td>\n",
       "      <td>22041</td>\n",
       "      <td>63</td>\n",
       "    </tr>\n",
       "  </tbody>\n",
       "</table>\n",
       "</div>"
      ],
      "text/plain": [
       "  cd_id  median_house_income  num_complaints\n",
       "0  BX08                54224             105\n",
       "1  BX12                44906             156\n",
       "2  BX10                54962              91\n",
       "3  BX11                47910              86\n",
       "4  BX03                22041              63"
      ]
     },
     "execution_count": 1251,
     "metadata": {},
     "output_type": "execute_result"
    }
   ],
   "source": [
    "complaint_demo = pd.merge(community_demo, community_complaints, on='cd_id', how='left')\n",
    "complaint_demo.head()"
   ]
  },
  {
   "cell_type": "code",
   "execution_count": 1252,
   "metadata": {
    "collapsed": false
   },
   "outputs": [
    {
     "data": {
      "text/html": [
       "<div>\n",
       "<table border=\"1\" class=\"dataframe\">\n",
       "  <thead>\n",
       "    <tr style=\"text-align: right;\">\n",
       "      <th></th>\n",
       "      <th>cd_id</th>\n",
       "      <th>median_house_income</th>\n",
       "      <th>num_complaints</th>\n",
       "      <th>low_internet_conection</th>\n",
       "      <th>high_internet_connection</th>\n",
       "      <th>no_connection</th>\n",
       "    </tr>\n",
       "  </thead>\n",
       "  <tbody>\n",
       "    <tr>\n",
       "      <th>0</th>\n",
       "      <td>BX08</td>\n",
       "      <td>54224</td>\n",
       "      <td>105</td>\n",
       "      <td>404.0</td>\n",
       "      <td>30943.0</td>\n",
       "      <td>10688.0</td>\n",
       "    </tr>\n",
       "    <tr>\n",
       "      <th>1</th>\n",
       "      <td>BX12</td>\n",
       "      <td>44906</td>\n",
       "      <td>156</td>\n",
       "      <td>178.0</td>\n",
       "      <td>31435.0</td>\n",
       "      <td>13217.0</td>\n",
       "    </tr>\n",
       "    <tr>\n",
       "      <th>2</th>\n",
       "      <td>BX10</td>\n",
       "      <td>54962</td>\n",
       "      <td>91</td>\n",
       "      <td>158.0</td>\n",
       "      <td>32333.0</td>\n",
       "      <td>14559.0</td>\n",
       "    </tr>\n",
       "    <tr>\n",
       "      <th>3</th>\n",
       "      <td>BX11</td>\n",
       "      <td>47910</td>\n",
       "      <td>86</td>\n",
       "      <td>122.0</td>\n",
       "      <td>31278.0</td>\n",
       "      <td>13522.0</td>\n",
       "    </tr>\n",
       "    <tr>\n",
       "      <th>4</th>\n",
       "      <td>BX03</td>\n",
       "      <td>22041</td>\n",
       "      <td>63</td>\n",
       "      <td>44.0</td>\n",
       "      <td>16704.0</td>\n",
       "      <td>12030.0</td>\n",
       "    </tr>\n",
       "  </tbody>\n",
       "</table>\n",
       "</div>"
      ],
      "text/plain": [
       "  cd_id  median_house_income  num_complaints  low_internet_conection  \\\n",
       "0  BX08                54224             105                   404.0   \n",
       "1  BX12                44906             156                   178.0   \n",
       "2  BX10                54962              91                   158.0   \n",
       "3  BX11                47910              86                   122.0   \n",
       "4  BX03                22041              63                    44.0   \n",
       "\n",
       "   high_internet_connection  no_connection  \n",
       "0                   30943.0        10688.0  \n",
       "1                   31435.0        13217.0  \n",
       "2                   32333.0        14559.0  \n",
       "3                   31278.0        13522.0  \n",
       "4                   16704.0        12030.0  "
      ]
     },
     "execution_count": 1252,
     "metadata": {},
     "output_type": "execute_result"
    }
   ],
   "source": [
    "complaint_demo_internet = pd.merge(complaint_demo, community_internet, on='cd_id', how='left')\n",
    "complaint_demo_internet.head()"
   ]
  },
  {
   "cell_type": "code",
   "execution_count": 1253,
   "metadata": {
    "collapsed": false
   },
   "outputs": [
    {
     "data": {
      "text/plain": [
       "59"
      ]
     },
     "execution_count": 1253,
     "metadata": {},
     "output_type": "execute_result"
    }
   ],
   "source": [
    "len(complaint_demo_internet)"
   ]
  },
  {
   "cell_type": "code",
   "execution_count": 1254,
   "metadata": {
    "collapsed": true
   },
   "outputs": [],
   "source": [
    "# Are the demographics and infrastructure different in Community Districts that show more complaints than others?"
   ]
  },
  {
   "cell_type": "markdown",
   "metadata": {},
   "source": [
    "### Median Household Income Analysis"
   ]
  },
  {
   "cell_type": "code",
   "execution_count": 1255,
   "metadata": {
    "collapsed": false
   },
   "outputs": [
    {
     "data": {
      "text/plain": [
       "<matplotlib.legend.Legend at 0x7fd878277a20>"
      ]
     },
     "execution_count": 1255,
     "metadata": {},
     "output_type": "execute_result"
    },
    {
     "data": {
      "image/png": "[encoded data removed]",
      "text/plain": [
       "<matplotlib.figure.Figure at 0x7fd8785ddba8>"
      ]
     },
     "metadata": {},
     "output_type": "display_data"
    }
   ],
   "source": [
    "import matplotlib.pyplot as plt\n",
    "import seaborn\n",
    "import statsmodels.formula.api as smf\n",
    "%matplotlib inline\n",
    "\n",
    "lm_income = smf.ols(formula=' num_complaints ~ median_house_income', data=complaint_demo_internet).fit()\n",
    "pred_income = lm_income.predict()\n",
    "\n",
    "plt.figure(figsize=(8,4))\n",
    "plt.plot(complaint_demo_internet.median_house_income, pred_income, label='Linear Regression Fit')\n",
    "plt.plot(complaint_demo_internet.median_house_income, complaint_demo_internet.num_complaints, \n",
    "                  'o', markersize=5, label='Data Points')\n",
    "plt.xlabel('Median Household Income')\n",
    "plt.ylabel('Number of Complaints')\n",
    "plt.legend()"
   ]
  },
  {
   "cell_type": "markdown",
   "metadata": {},
   "source": [
    "#### Figure 1:\n",
    "Figure 1 illustrates the relationship between the total number of complaints per community district and the the median househould income for each community district. Based on visual analysis there appears to be no positve or negative relationship between the number of complaints and the median household income.\n",
    "\n",
    "#### Perform Pearson Correlation Test to determine any statistical relationship between complaints and income\n",
    "alpha = .1"
   ]
  },
  {
   "cell_type": "code",
   "execution_count": 1256,
   "metadata": {
    "collapsed": false
   },
   "outputs": [
    {
     "name": "stdout",
     "output_type": "stream",
     "text": [
      "correlation coefficient:  0.129253642185\n",
      "p-value:  0.329225906307\n"
     ]
    }
   ],
   "source": [
    "import math\n",
    "import scipy.stats as st\n",
    "corr_income, p_income = st.pearsonr(complaint_demo_internet.median_house_income, complaint_demo_internet.num_complaints)\n",
    "print ('correlation coefficient: ', corr_income)\n",
    "print ('p-value: ', p_income)"
   ]
  },
  {
   "cell_type": "markdown",
   "metadata": {},
   "source": [
    "The p-value is the probability of seeing the observed correlation or stronger, if no correlation exists. Therefore because of the high p-value (>.05), we can conclude there is not a statistically significant correlation between median househould income and number of complaints"
   ]
  },
  {
   "cell_type": "markdown",
   "metadata": {},
   "source": [
    "### High Internet Connection Analysis"
   ]
  },
  {
   "cell_type": "code",
   "execution_count": 1257,
   "metadata": {
    "collapsed": false
   },
   "outputs": [
    {
     "data": {
      "text/plain": [
       "<matplotlib.legend.Legend at 0x7fd8781ee6d8>"
      ]
     },
     "execution_count": 1257,
     "metadata": {},
     "output_type": "execute_result"
    },
    {
     "data": {
      "image/png": "[encoded data removed]",
      "text/plain": [
       "<matplotlib.figure.Figure at 0x7fd8785ea208>"
      ]
     },
     "metadata": {},
     "output_type": "display_data"
    }
   ],
   "source": [
    "lm_high_int = smf.ols(formula=' num_complaints ~ high_internet_connection', data=complaint_demo_internet).fit()\n",
    "pred_high_int = lm_high_int.predict()\n",
    "\n",
    "plt.figure(figsize=(8,4))\n",
    "plt.plot(complaint_demo_internet.high_internet_connection, pred_high_int, label='Linear Regression Fit')\n",
    "plt.plot(complaint_demo_internet.high_internet_connection, complaint_demo_internet.num_complaints, \n",
    "                  'o', markersize=5, label='Data Points')\n",
    "plt.xlabel('High Internet Connection')\n",
    "plt.ylabel('Number of Complaints')\n",
    "plt.legend()"
   ]
  },
  {
   "cell_type": "markdown",
   "metadata": {},
   "source": [
    "#### Figure 2:\n",
    "Figure 2 illustrates the relationship between the total number of complaints per community district and the households who have a high internet connection for each community district. Based on visual analysis there appears to be some positve relationship between the number of complaints and the median household income.\n",
    "\n",
    "#### Perform Pearson Correlation Test to determine any statistical relationship between complaints and high internet connection\n"
   ]
  },
  {
   "cell_type": "code",
   "execution_count": 1258,
   "metadata": {
    "collapsed": false
   },
   "outputs": [
    {
     "name": "stdout",
     "output_type": "stream",
     "text": [
      "correlation coefficient:  0.354065418971\n",
      "p-value:  0.00593817871753\n"
     ]
    }
   ],
   "source": [
    "import math\n",
    "import scipy.stats as st\n",
    "corr_high_int, p_high_int = st.pearsonr(complaint_demo_internet.high_internet_connection, complaint_demo_internet.num_complaints)\n",
    "print ('correlation coefficient: ', corr_high_int)\n",
    "print ('p-value: ', p_high_int)"
   ]
  },
  {
   "cell_type": "markdown",
   "metadata": {},
   "source": [
    "The p-value is the probability of seeing the observed correlation or stronger, if no correlation exists. Therefore because of the low p-value (<.05), we can conclude there is a statistically significant correlation between households with high internet connection and number of complaints"
   ]
  },
  {
   "cell_type": "markdown",
   "metadata": {},
   "source": [
    "### Low Internet Connection Analysis"
   ]
  },
  {
   "cell_type": "code",
   "execution_count": 1259,
   "metadata": {
    "collapsed": false
   },
   "outputs": [
    {
     "data": {
      "text/plain": [
       "<matplotlib.legend.Legend at 0x7fd878167fd0>"
      ]
     },
     "execution_count": 1259,
     "metadata": {},
     "output_type": "execute_result"
    },
    {
     "data": {
      "image/png": "[encoded data removed]",
      "text/plain": [
       "<matplotlib.figure.Figure at 0x7fd878591780>"
      ]
     },
     "metadata": {},
     "output_type": "display_data"
    }
   ],
   "source": [
    "lm_low_int = smf.ols(formula=' num_complaints ~ low_internet_conection', data=complaint_demo_internet).fit()\n",
    "pred_low_int = lm_low_int.predict()\n",
    "\n",
    "plt.figure(figsize=(8,4))\n",
    "plt.plot(complaint_demo_internet.low_internet_conection, pred_low_int, label='Linear Regression Fit')\n",
    "plt.plot(complaint_demo_internet.low_internet_conection, complaint_demo_internet.num_complaints, \n",
    "                  'o', markersize=5, label='Data Points')\n",
    "plt.xlabel('Low Internet Connection')\n",
    "plt.ylabel('Number of Complaints')\n",
    "plt.legend()"
   ]
  },
  {
   "cell_type": "markdown",
   "metadata": {},
   "source": [
    "#### Figure 3:\n",
    "Figure 3 illustrates the relationship between the total number of complaints per community district and the households who have a low internet connection for each community district. Based on visual analysis there appears to be some positve relationship between the number of complaints and households who have low internet connection.\n",
    "\n",
    "#### Perform Pearson Correlation Test to determine any statistical relationship between complaints and low internet connection\n"
   ]
  },
  {
   "cell_type": "code",
   "execution_count": 1260,
   "metadata": {
    "collapsed": false
   },
   "outputs": [
    {
     "name": "stdout",
     "output_type": "stream",
     "text": [
      "correlation coefficient:  0.248909984418\n",
      "p-value:  0.0572960656639\n"
     ]
    }
   ],
   "source": [
    "import math\n",
    "import scipy.stats as st\n",
    "corr_low_int, p_low_int = st.pearsonr(complaint_demo_internet.low_internet_conection, complaint_demo_internet.num_complaints)\n",
    "print ('correlation coefficient: ', corr_low_int)\n",
    "print ('p-value: ', p_low_int)"
   ]
  },
  {
   "cell_type": "markdown",
   "metadata": {},
   "source": [
    "The p-value is the probability of seeing the observed correlation or stronger, if no correlation exists. Therefore because of the low p-value (<.05), we can conclude there is a statistically significant correlation between households with low internet connection and number of complaints"
   ]
  },
  {
   "cell_type": "markdown",
   "metadata": {
    "collapsed": true
   },
   "source": [
    "### No Connection Analysis"
   ]
  },
  {
   "cell_type": "code",
   "execution_count": 1261,
   "metadata": {
    "collapsed": false
   },
   "outputs": [
    {
     "data": {
      "text/plain": [
       "<matplotlib.legend.Legend at 0x7fd8780dd278>"
      ]
     },
     "execution_count": 1261,
     "metadata": {},
     "output_type": "execute_result"
    },
    {
     "data": {
      "image/png": "[encoded data removed]",
      "text/plain": [
       "<matplotlib.figure.Figure at 0x7fd878c97f98>"
      ]
     },
     "metadata": {},
     "output_type": "display_data"
    }
   ],
   "source": [
    "lm_no_int = smf.ols(formula=' num_complaints ~ no_connection', data=complaint_demo_internet).fit()\n",
    "pred_no_int = lm_no_int.predict()\n",
    "\n",
    "plt.figure(figsize=(8,4))\n",
    "plt.plot(complaint_demo_internet.no_connection, pred_no_int, label='Linear Regression Fit')\n",
    "plt.plot(complaint_demo_internet.no_connection, complaint_demo_internet.num_complaints, \n",
    "                  'o', markersize=5, label='Data Points')\n",
    "plt.xlabel('No Connection')\n",
    "plt.ylabel('Number of Complaints')\n",
    "plt.legend()"
   ]
  },
  {
   "cell_type": "markdown",
   "metadata": {},
   "source": [
    "#### Figure 4:\n",
    "Figure 4 illustrates the relationship between the total number of complaints per community district and the households who have no internet connection for each community district. Based on visual analysis there appears to be some positve relationship between the number of complaints and households who have no internet connection.\n",
    "\n",
    "#### Perform Pearson Correlation Test to determine any statistical relationship between complaints and no internet connection"
   ]
  },
  {
   "cell_type": "code",
   "execution_count": 1262,
   "metadata": {
    "collapsed": false
   },
   "outputs": [
    {
     "name": "stdout",
     "output_type": "stream",
     "text": [
      "correlation coefficient:  0.245721664789\n",
      "p-value:  0.0606671107254\n"
     ]
    }
   ],
   "source": [
    "import math\n",
    "import scipy.stats as st\n",
    "corr_no_int, p_no_int = st.pearsonr(complaint_demo_internet.no_connection, complaint_demo_internet.num_complaints)\n",
    "print ('correlation coefficient: ', corr_no_int)\n",
    "print ('p-value: ', p_no_int)"
   ]
  },
  {
   "cell_type": "markdown",
   "metadata": {},
   "source": [
    "The p-value is the probability of seeing the observed correlation or stronger, if no correlation exists. Therefore because of the low p-value (<.05), we can conclude there is a statistically significant correlation between households with no internet connection and number of complaints"
   ]
  },
  {
   "cell_type": "code",
   "execution_count": null,
   "metadata": {
    "collapsed": true
   },
   "outputs": [],
   "source": []
  }
 ],
 "metadata": {
  "celltoolbar": "Raw Cell Format",
  "kernelspec": {
   "display_name": "PUI2016_Python3",
   "language": "python",
   "name": "pui2016_python3"
  },
  "language_info": {
   "codemirror_mode": {
    "name": "ipython",
    "version": 3
   },
   "file_extension": ".py",
   "mimetype": "text/x-python",
   "name": "python",
   "nbconvert_exporter": "python",
   "pygments_lexer": "ipython3",
   "version": "3.5.2"
  }
 },
 "nbformat": 4,
 "nbformat_minor": 0
}
