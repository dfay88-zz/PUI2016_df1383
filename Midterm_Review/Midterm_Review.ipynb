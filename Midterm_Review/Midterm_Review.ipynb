{
 "cells": [
  {
   "cell_type": "markdown",
   "metadata": {
    "collapsed": true
   },
   "source": [
    "# Midterm Review\n",
    "------------------\n",
    "## Probability Distributions\n",
    "* Central Limit Theorem\n",
    "\n",
    "#### Distribution Types\n",
    "* Gaussian\n",
    "* Poisson\n",
    "* Binomial\n",
    "* Chisquared\n",
    "\n",
    "## Hypothesis Tests\n",
    "#### Mean/ Proportion Tests\n",
    "* Z-Test\n",
    "* T-Test\n",
    "* Chisquared-Test (http://math.hws.edu/javamath/ryan/ChiSquare.html)\n",
    "* KS Test\n",
    "* AD Test\n",
    "\n",
    "#### Goodness of Fit Tests\n",
    "* KS Test\n",
    "* Pearsons Chisquared Test\n",
    "* AD Test\n",
    "* K-L Divergence\n",
    "* Likelihood Ratio\n",
    "\n",
    "\n",
    "#### Correlation Tests\n",
    "* Pearsons Test\n",
    "* Spearmans Test\n",
    "\n",
    "---------"
   ]
  },
  {
   "cell_type": "markdown",
   "metadata": {},
   "source": [
    "## Probability Distributions"
   ]
  },
  {
   "cell_type": "markdown",
   "metadata": {},
   "source": [
    "##### Central Limit Theorem -  \n",
    "The Central Limit Theorem states that the sampling distribution of the sample\n",
    "mean approximates the normal distribution, regardless of the distribution of the\n",
    "population from which the samples are drawn, if the sample size is sufficiently\n",
    "large.This fact enables us to make statistical inferences using tests based on the\n",
    "approximate normality of the mean, even if the sample is drawn from a population\n",
    "that is not normally distributed.\n",
    "\n",
    "The Central Limit Theorem says that when samples of sufficient size are drawn from a\n",
    "nonnormal population, the means of those samples tend to assume a normal\n",
    "distribution.\n"
   ]
  },
  {
   "cell_type": "markdown",
   "metadata": {},
   "source": [
    "##### Distribution Types\n",
    "* Gaussian - Continuous probability function  \n",
    "    Example: Heights of students\n",
    "  \n",
    "  \n",
    "* Poisson - Discrete probability function  \n",
    "    Example: How many mails you receive each day\n",
    "  \n",
    "  \n",
    "* Binomial - Discrete probability function  \n",
    "    Example: How many times you succeed vs fail at a task, flip a coin - heads = success\n",
    "    \n",
    "    \n",
    "* Chisquared - Continuous proability function  \n",
    "    Example: Distribution of Chisquared statistic"
   ]
  },
  {
   "cell_type": "markdown",
   "metadata": {},
   "source": [
    "## Hypothesis Tests"
   ]
  },
  {
   "cell_type": "markdown",
   "metadata": {},
   "source": [
    "### Mean / Proportion Tests"
   ]
  },
  {
   "cell_type": "markdown",
   "metadata": {},
   "source": [
    "#### Z-Test  \n",
    "A z-test is a statistical test used to determine whether two population means or proportions are different when the variances are known and the sample size is large. Hypothesis is set by user."
   ]
  },
  {
   "cell_type": "code",
   "execution_count": null,
   "metadata": {
    "collapsed": false
   },
   "outputs": [],
   "source": [
    "import math\n",
    "import scipy.stats as st\n",
    "\n",
    "# Calculate Z score and P Value for one sample compared to another sample\n",
    "def z_score(s1,s2):\n",
    "    s1_mean = np.mean(s1)\n",
    "    s2_mean = np.mean(s2)\n",
    "    s1_std = np.std(s2)\n",
    "    s2_std = np.std(s2)\n",
    "    n1 = len(s1)\n",
    "    n2 = len(s2)\n",
    "    print (s1_mean,s2_mean)\n",
    "    return (s1_mean-s2_mean)/(np.sqrt(((s2_std**2)/(n2))+((s1_std**2)/(n1))))\n",
    "                              \n",
    "z_score = z_score()\n",
    "p_value = st.norm.sf(abs(z_score))\n",
    "print ('Z Score: ', z_score)\n",
    "print('P Value: ', p_value)\n",
    "\n",
    "# Calculate Z score and P Value for one sample compared to population\n",
    "z_score = (new_mean - old_mean)/(old_std/(math.sqrt(len(df))))\n",
    "p_value = st.norm.sf(abs(z_score))\n",
    "print ('Z Score = ',z_score)\n",
    "print('P Value: ', p_value)"
   ]
  },
  {
   "cell_type": "markdown",
   "metadata": {},
   "source": [
    "#### T-Test  \n",
    "Similar to z test but used when you do not know the population standard deviation or the sample sizes are less than 30. Hypothesis is set by user."
   ]
  },
  {
   "cell_type": "code",
   "execution_count": null,
   "metadata": {
    "collapsed": false
   },
   "outputs": [],
   "source": [
    "# T-test for one sample mean against expected mean\n",
    "st.ttest_1samp()\n",
    "\n",
    "# T-test for the means of two independent samples of scores\n",
    "st.ttest_ind()\n",
    "\n",
    "# T-test on two related samples of scores, a and b\n",
    "st.ttest_rel()"
   ]
  },
  {
   "cell_type": "markdown",
   "metadata": {},
   "source": [
    "#### Chisquared-Test  \n",
    "Used for testing observed vs expected and contigency table. Null hypothesis: proportions are equal"
   ]
  },
  {
   "cell_type": "code",
   "execution_count": null,
   "metadata": {
    "collapsed": false
   },
   "outputs": [],
   "source": [
    "st.chi2_contingency()"
   ]
  },
  {
   "cell_type": "markdown",
   "metadata": {},
   "source": [
    "#### KS Test  \n",
    "Null hypothesis: sample is drawn from specified distribution"
   ]
  },
  {
   "cell_type": "code",
   "execution_count": null,
   "metadata": {
    "collapsed": false
   },
   "outputs": [],
   "source": [
    "st.kstest()"
   ]
  },
  {
   "cell_type": "markdown",
   "metadata": {},
   "source": [
    "#### AD Test  \n",
    "Null hypothesis: sample is drawn from specified distribution"
   ]
  },
  {
   "cell_type": "code",
   "execution_count": null,
   "metadata": {
    "collapsed": false
   },
   "outputs": [],
   "source": [
    "st.anderson()"
   ]
  },
  {
   "cell_type": "markdown",
   "metadata": {},
   "source": [
    "### Goodness of Fit Tests"
   ]
  },
  {
   "cell_type": "markdown",
   "metadata": {},
   "source": [
    "#### KS Test  \n",
    "Test used to test if a sample comes a specific distribution or if two samples came from the same distribution. Null hypothesis: Samples come from same distribution"
   ]
  },
  {
   "cell_type": "code",
   "execution_count": null,
   "metadata": {
    "collapsed": false
   },
   "outputs": [],
   "source": [
    "st.ks_2samp()"
   ]
  },
  {
   "cell_type": "markdown",
   "metadata": {},
   "source": [
    "#### Pearson Chi-squared Test\n",
    "Null Hypothesis: Observed and expected come frome same frequency distribution"
   ]
  },
  {
   "cell_type": "code",
   "execution_count": null,
   "metadata": {
    "collapsed": false
   },
   "outputs": [],
   "source": [
    "st.chisquare()"
   ]
  },
  {
   "cell_type": "markdown",
   "metadata": {},
   "source": [
    "#### AD Test  \n",
    "The k-sample Anderson-Darling test is a modification of the one-sample Anderson-Darling test. It tests the null hypothesis that k-samples are drawn from the same population without having to specify the distribution function of that population. Null Hypothesis: Samples are drawn from same distribution"
   ]
  },
  {
   "cell_type": "code",
   "execution_count": null,
   "metadata": {
    "collapsed": false
   },
   "outputs": [],
   "source": [
    "st.anderson_ksamp()"
   ]
  },
  {
   "cell_type": "markdown",
   "metadata": {},
   "source": [
    "#### K-L Divergence\n",
    "KL divergence, is a measure of the difference between two probability distributions P and Q. In applications, P typically represents the \"true\" distribution of data, observations, or a precisely calculated theoretical distribution, while Q typically represents a theory, model, description, or approximation of P. Lesser the value, more the similarity."
   ]
  },
  {
   "cell_type": "code",
   "execution_count": null,
   "metadata": {
    "collapsed": true
   },
   "outputs": [],
   "source": [
    "st.entropy()"
   ]
  },
  {
   "cell_type": "markdown",
   "metadata": {},
   "source": [
    "#### Likelihood ratio\n",
    "Test used to compare the goodness of fit of two models. The test is based on the likelihood ratio, which expresses how many times more likely the data are under one model than the other. This likelihood ratio, or equivalently its logarithm, can then be used to compute a p-value, or compared to a critical value to decide whether to reject the null model in favour of the alternative model. Null Hypothesis: Simple model is better fit"
   ]
  },
  {
   "cell_type": "code",
   "execution_count": null,
   "metadata": {
    "collapsed": false
   },
   "outputs": [],
   "source": [
    "LR = 2 * (complex_model.llf  - simple_model.llf)\n",
    "LR_statsmodels = complex_model.compare_lr_test(simple_model)"
   ]
  },
  {
   "cell_type": "markdown",
   "metadata": {},
   "source": [
    "### Correlation"
   ]
  },
  {
   "cell_type": "markdown",
   "metadata": {},
   "source": [
    "#### Pearsons Test\n",
    "In statistics, the Pearson product-moment correlation coefficient (Pearson's r) is a measure of the linear dependence between two variables X and Y, giving a value between +1 and −1 inclusive, where 1 is total positive linear correlation, 0 is no linear correlation, and −1 is total negative linear correlation. P-Value: the probability of seeing the observed correlation or stronger, if no correlation exists."
   ]
  },
  {
   "cell_type": "code",
   "execution_count": null,
   "metadata": {
    "collapsed": false
   },
   "outputs": [],
   "source": [
    "st.pearsonr()"
   ]
  },
  {
   "cell_type": "markdown",
   "metadata": {},
   "source": [
    "#### Spearmans Test\n",
    "A Spearman correlation of 1 results when the two variables being compared are monotonically related, even if their relationship is not linear. This means that all data-points with greater x-values than that of a given data-point will have greater y-values as well. In contrast, this does not give a perfect Pearson correlation. P-Value: the probability of seeing the observed correlation or stronger, if no correlation exists."
   ]
  },
  {
   "cell_type": "code",
   "execution_count": null,
   "metadata": {
    "collapsed": true
   },
   "outputs": [],
   "source": [
    "st.spearmanr()"
   ]
  }
 ],
 "metadata": {
  "kernelspec": {
   "display_name": "Python 3",
   "language": "python",
   "name": "python3"
  },
  "language_info": {
   "codemirror_mode": {
    "name": "ipython",
    "version": 3
   },
   "file_extension": ".py",
   "mimetype": "text/x-python",
   "name": "python",
   "nbconvert_exporter": "python",
   "pygments_lexer": "ipython3",
   "version": "3.5.2"
  }
 },
 "nbformat": 4,
 "nbformat_minor": 0
}
