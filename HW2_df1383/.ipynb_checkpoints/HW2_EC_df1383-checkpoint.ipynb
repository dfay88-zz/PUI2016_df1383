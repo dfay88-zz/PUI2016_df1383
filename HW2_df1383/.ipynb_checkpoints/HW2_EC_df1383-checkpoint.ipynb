{
 "cells": [
  {
   "cell_type": "code",
   "execution_count": 126,
   "metadata": {
    "collapsed": false
   },
   "outputs": [
    {
     "name": "stdout",
     "output_type": "stream",
     "text": [
      "Populating the interactive namespace from numpy and matplotlib\n"
     ]
    },
    {
     "data": {
      "text/html": [
       "<div>\n",
       "<table border=\"1\" class=\"dataframe\">\n",
       "  <thead>\n",
       "    <tr style=\"text-align: right;\">\n",
       "      <th></th>\n",
       "      <th>DATE</th>\n",
       "      <th>TIME</th>\n",
       "      <th>BOROUGH</th>\n",
       "      <th>ZIP CODE</th>\n",
       "      <th>LATITUDE</th>\n",
       "      <th>LONGITUDE</th>\n",
       "      <th>LOCATION</th>\n",
       "      <th>ON STREET NAME</th>\n",
       "      <th>CROSS STREET NAME</th>\n",
       "      <th>OFF STREET NAME</th>\n",
       "      <th>...</th>\n",
       "      <th>CONTRIBUTING FACTOR VEHICLE 2</th>\n",
       "      <th>CONTRIBUTING FACTOR VEHICLE 3</th>\n",
       "      <th>CONTRIBUTING FACTOR VEHICLE 4</th>\n",
       "      <th>CONTRIBUTING FACTOR VEHICLE 5</th>\n",
       "      <th>UNIQUE KEY</th>\n",
       "      <th>VEHICLE TYPE CODE 1</th>\n",
       "      <th>VEHICLE TYPE CODE 2</th>\n",
       "      <th>VEHICLE TYPE CODE 3</th>\n",
       "      <th>VEHICLE TYPE CODE 4</th>\n",
       "      <th>VEHICLE TYPE CODE 5</th>\n",
       "    </tr>\n",
       "  </thead>\n",
       "  <tbody>\n",
       "    <tr>\n",
       "      <th>0</th>\n",
       "      <td>04/04/2015</td>\n",
       "      <td>9:25</td>\n",
       "      <td>MANHATTAN</td>\n",
       "      <td>10001.0</td>\n",
       "      <td>40.750788</td>\n",
       "      <td>-74.005630</td>\n",
       "      <td>(40.7507879, -74.0056304)</td>\n",
       "      <td>WEST 26 STREET</td>\n",
       "      <td>11 AVENUE</td>\n",
       "      <td>NaN</td>\n",
       "      <td>...</td>\n",
       "      <td>Unspecified</td>\n",
       "      <td>NaN</td>\n",
       "      <td>NaN</td>\n",
       "      <td>NaN</td>\n",
       "      <td>3197298</td>\n",
       "      <td>PICK-UP TRUCK</td>\n",
       "      <td>LIVERY VEHICLE</td>\n",
       "      <td>NaN</td>\n",
       "      <td>NaN</td>\n",
       "      <td>NaN</td>\n",
       "    </tr>\n",
       "    <tr>\n",
       "      <th>1</th>\n",
       "      <td>04/04/2015</td>\n",
       "      <td>21:15</td>\n",
       "      <td>QUEENS</td>\n",
       "      <td>11357.0</td>\n",
       "      <td>40.781291</td>\n",
       "      <td>-73.814200</td>\n",
       "      <td>(40.7812915, -73.8141997)</td>\n",
       "      <td>20 AVENUE</td>\n",
       "      <td>150 STREET</td>\n",
       "      <td>NaN</td>\n",
       "      <td>...</td>\n",
       "      <td>Unspecified</td>\n",
       "      <td>NaN</td>\n",
       "      <td>NaN</td>\n",
       "      <td>NaN</td>\n",
       "      <td>3198105</td>\n",
       "      <td>PASSENGER VEHICLE</td>\n",
       "      <td>PASSENGER VEHICLE</td>\n",
       "      <td>NaN</td>\n",
       "      <td>NaN</td>\n",
       "      <td>NaN</td>\n",
       "    </tr>\n",
       "    <tr>\n",
       "      <th>2</th>\n",
       "      <td>04/04/2015</td>\n",
       "      <td>16:52</td>\n",
       "      <td>QUEENS</td>\n",
       "      <td>11385.0</td>\n",
       "      <td>40.702595</td>\n",
       "      <td>-73.855293</td>\n",
       "      <td>(40.7025952, -73.8552926)</td>\n",
       "      <td>WOODHAVEN BOULEVARD</td>\n",
       "      <td>MYRTLE AVENUE</td>\n",
       "      <td>NaN</td>\n",
       "      <td>...</td>\n",
       "      <td>Unspecified</td>\n",
       "      <td>NaN</td>\n",
       "      <td>NaN</td>\n",
       "      <td>NaN</td>\n",
       "      <td>3197589</td>\n",
       "      <td>PASSENGER VEHICLE</td>\n",
       "      <td>OTHER</td>\n",
       "      <td>NaN</td>\n",
       "      <td>NaN</td>\n",
       "      <td>NaN</td>\n",
       "    </tr>\n",
       "    <tr>\n",
       "      <th>3</th>\n",
       "      <td>04/04/2015</td>\n",
       "      <td>9:30</td>\n",
       "      <td>MANHATTAN</td>\n",
       "      <td>10025.0</td>\n",
       "      <td>40.804886</td>\n",
       "      <td>-73.962474</td>\n",
       "      <td>(40.8048862, -73.9624735)</td>\n",
       "      <td>WEST 113 STREET</td>\n",
       "      <td>AMSTERDAM AVENUE</td>\n",
       "      <td>NaN</td>\n",
       "      <td>...</td>\n",
       "      <td>Unspecified</td>\n",
       "      <td>NaN</td>\n",
       "      <td>NaN</td>\n",
       "      <td>NaN</td>\n",
       "      <td>3197369</td>\n",
       "      <td>PASSENGER VEHICLE</td>\n",
       "      <td>UNKNOWN</td>\n",
       "      <td>NaN</td>\n",
       "      <td>NaN</td>\n",
       "      <td>NaN</td>\n",
       "    </tr>\n",
       "    <tr>\n",
       "      <th>4</th>\n",
       "      <td>04/04/2015</td>\n",
       "      <td>9:41</td>\n",
       "      <td>QUEENS</td>\n",
       "      <td>11428.0</td>\n",
       "      <td>40.715144</td>\n",
       "      <td>-73.749356</td>\n",
       "      <td>(40.7151436, -73.7493556)</td>\n",
       "      <td>211 STREET</td>\n",
       "      <td>JAMAICA AVENUE</td>\n",
       "      <td>NaN</td>\n",
       "      <td>...</td>\n",
       "      <td>NaN</td>\n",
       "      <td>NaN</td>\n",
       "      <td>NaN</td>\n",
       "      <td>NaN</td>\n",
       "      <td>3197601</td>\n",
       "      <td>PASSENGER VEHICLE</td>\n",
       "      <td>NaN</td>\n",
       "      <td>NaN</td>\n",
       "      <td>NaN</td>\n",
       "      <td>NaN</td>\n",
       "    </tr>\n",
       "  </tbody>\n",
       "</table>\n",
       "<p>5 rows × 29 columns</p>\n",
       "</div>"
      ],
      "text/plain": [
       "         DATE   TIME    BOROUGH  ZIP CODE   LATITUDE  LONGITUDE  \\\n",
       "0  04/04/2015   9:25  MANHATTAN   10001.0  40.750788 -74.005630   \n",
       "1  04/04/2015  21:15     QUEENS   11357.0  40.781291 -73.814200   \n",
       "2  04/04/2015  16:52     QUEENS   11385.0  40.702595 -73.855293   \n",
       "3  04/04/2015   9:30  MANHATTAN   10025.0  40.804886 -73.962474   \n",
       "4  04/04/2015   9:41     QUEENS   11428.0  40.715144 -73.749356   \n",
       "\n",
       "                    LOCATION       ON STREET NAME CROSS STREET NAME  \\\n",
       "0  (40.7507879, -74.0056304)       WEST 26 STREET         11 AVENUE   \n",
       "1  (40.7812915, -73.8141997)            20 AVENUE        150 STREET   \n",
       "2  (40.7025952, -73.8552926)  WOODHAVEN BOULEVARD     MYRTLE AVENUE   \n",
       "3  (40.8048862, -73.9624735)      WEST 113 STREET  AMSTERDAM AVENUE   \n",
       "4  (40.7151436, -73.7493556)           211 STREET    JAMAICA AVENUE   \n",
       "\n",
       "  OFF STREET NAME         ...          CONTRIBUTING FACTOR VEHICLE 2  \\\n",
       "0             NaN         ...                            Unspecified   \n",
       "1             NaN         ...                            Unspecified   \n",
       "2             NaN         ...                            Unspecified   \n",
       "3             NaN         ...                            Unspecified   \n",
       "4             NaN         ...                                    NaN   \n",
       "\n",
       "   CONTRIBUTING FACTOR VEHICLE 3  CONTRIBUTING FACTOR VEHICLE 4  \\\n",
       "0                            NaN                            NaN   \n",
       "1                            NaN                            NaN   \n",
       "2                            NaN                            NaN   \n",
       "3                            NaN                            NaN   \n",
       "4                            NaN                            NaN   \n",
       "\n",
       "   CONTRIBUTING FACTOR VEHICLE 5  UNIQUE KEY  VEHICLE TYPE CODE 1  \\\n",
       "0                            NaN     3197298        PICK-UP TRUCK   \n",
       "1                            NaN     3198105    PASSENGER VEHICLE   \n",
       "2                            NaN     3197589    PASSENGER VEHICLE   \n",
       "3                            NaN     3197369    PASSENGER VEHICLE   \n",
       "4                            NaN     3197601    PASSENGER VEHICLE   \n",
       "\n",
       "   VEHICLE TYPE CODE 2  VEHICLE TYPE CODE 3 VEHICLE TYPE CODE 4  \\\n",
       "0       LIVERY VEHICLE                  NaN                 NaN   \n",
       "1    PASSENGER VEHICLE                  NaN                 NaN   \n",
       "2                OTHER                  NaN                 NaN   \n",
       "3              UNKNOWN                  NaN                 NaN   \n",
       "4                  NaN                  NaN                 NaN   \n",
       "\n",
       "  VEHICLE TYPE CODE 5  \n",
       "0                 NaN  \n",
       "1                 NaN  \n",
       "2                 NaN  \n",
       "3                 NaN  \n",
       "4                 NaN  \n",
       "\n",
       "[5 rows x 29 columns]"
      ]
     },
     "execution_count": 126,
     "metadata": {},
     "output_type": "execute_result"
    }
   ],
   "source": [
    "# Import necessary packages\n",
    "from __future__ import division, print_function\n",
    "import pandas as pd\n",
    "import pylab as pl\n",
    "import os\n",
    "%pylab inline\n",
    "\n",
    "# Get NYC Open Data file path\n",
    "DFDATA = os.getenv(\"DFDATA\")\n",
    "\n",
    "# Load csv file to pandas dataframe and print first 5 rows\n",
    "df = pd.read_csv(DFDATA + \"/h9gi-nx95/1428430582/h9gi-nx95\")\n",
    "df.head(5)"
   ]
  },
  {
   "cell_type": "code",
   "execution_count": 127,
   "metadata": {
    "collapsed": false
   },
   "outputs": [
    {
     "data": {
      "text/html": [
       "<div>\n",
       "<table border=\"1\" class=\"dataframe\">\n",
       "  <thead>\n",
       "    <tr style=\"text-align: right;\">\n",
       "      <th></th>\n",
       "      <th>Collision_count</th>\n",
       "    </tr>\n",
       "    <tr>\n",
       "      <th>Date</th>\n",
       "      <th></th>\n",
       "    </tr>\n",
       "  </thead>\n",
       "  <tbody>\n",
       "    <tr>\n",
       "      <th>2012-07-31</th>\n",
       "      <td>16987</td>\n",
       "    </tr>\n",
       "    <tr>\n",
       "      <th>2012-08-31</th>\n",
       "      <td>17138</td>\n",
       "    </tr>\n",
       "    <tr>\n",
       "      <th>2012-09-30</th>\n",
       "      <td>16530</td>\n",
       "    </tr>\n",
       "    <tr>\n",
       "      <th>2012-10-31</th>\n",
       "      <td>16861</td>\n",
       "    </tr>\n",
       "    <tr>\n",
       "      <th>2012-11-30</th>\n",
       "      <td>15888</td>\n",
       "    </tr>\n",
       "  </tbody>\n",
       "</table>\n",
       "</div>"
      ],
      "text/plain": [
       "            Collision_count\n",
       "Date                       \n",
       "2012-07-31            16987\n",
       "2012-08-31            17138\n",
       "2012-09-30            16530\n",
       "2012-10-31            16861\n",
       "2012-11-30            15888"
      ]
     },
     "execution_count": 127,
     "metadata": {},
     "output_type": "execute_result"
    }
   ],
   "source": [
    "# Calculate number of collisions on each day and sort by date\n",
    "df = pd.DataFrame(df.groupby(['DATE']).size()).reset_index()\n",
    "df.columns =['Date','Collision_count']\n",
    "df['Date']=pd.to_datetime(df['Date'])\n",
    "df.set_index('Date',inplace=True)\n",
    "df = df.sort_index()\n",
    "df = df.groupby(pd.TimeGrouper(freq='M')).sum()\n",
    "df.head(5)"
   ]
  },
  {
   "cell_type": "code",
   "execution_count": 128,
   "metadata": {
    "collapsed": false
   },
   "outputs": [
    {
     "data": {
      "text/plain": [
       "<matplotlib.text.Text at 0x7fa09cace5d0>"
      ]
     },
     "execution_count": 128,
     "metadata": {},
     "output_type": "execute_result"
    },
    {
     "data": {
      "image/png": "[encoded data removed]",
      "text/plain": [
       "<matplotlib.figure.Figure at 0x7fa0a01f2450>"
      ]
     },
     "metadata": {},
     "output_type": "display_data"
    }
   ],
   "source": [
    "plot = df.plot(x=df.index,y='Collision_count',title='Number of Vehicle Collisions Per Month in NYC', rot=90)\n",
    "plot.set_xlabel('Date')\n",
    "plot.set_ylabel('Number of Collisions')"
   ]
  },
  {
   "cell_type": "markdown",
   "metadata": {
    "collapsed": true
   },
   "source": [
    "#### Data obtained from CUSP Data Hub - Details of Motor Vehicle Collisions in New York City provided by the NY Police Department\n",
    "#### *April 2015 did not have complete data for the month thus the large drop"
   ]
  },
  {
   "cell_type": "code",
   "execution_count": null,
   "metadata": {
    "collapsed": true
   },
   "outputs": [],
   "source": []
  }
 ],
 "metadata": {
  "kernelspec": {
   "display_name": "PUI2016_Python2",
   "language": "python",
   "name": "pui2016_python2"
  },
  "language_info": {
   "codemirror_mode": {
    "name": "ipython",
    "version": 2
   },
   "file_extension": ".py",
   "mimetype": "text/x-python",
   "name": "python",
   "nbconvert_exporter": "python",
   "pygments_lexer": "ipython2",
   "version": "2.7.12"
  }
 },
 "nbformat": 4,
 "nbformat_minor": 0
}
